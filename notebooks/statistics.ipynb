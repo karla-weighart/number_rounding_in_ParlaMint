{
 "cells": [
  {
   "cell_type": "code",
   "execution_count": 1,
   "metadata": {
    "collapsed": true
   },
   "outputs": [],
   "source": [
    "import pandas as pd\n",
    "from tqdm.notebook import tqdm\n",
    "from environment_constants import COLUMN_NAMES\n",
    "from random import shuffle\n",
    "from dataloader import sentences_and_meta_df, make_conllu_files_list, make_meta_files_list, get_meta_file_path\n",
    "from understanding_the_corpus import values_in_column, files_where_column_not_empty, files_where_column_has_value, count_words_in_sentence"
   ]
  },
  {
   "cell_type": "code",
   "execution_count": 2,
   "outputs": [],
   "source": [
    "conllu_list = make_conllu_files_list()"
   ],
   "metadata": {
    "collapsed": false
   }
  },
  {
   "cell_type": "code",
   "execution_count": 3,
   "outputs": [
    {
     "data": {
      "text/plain": "0it [00:00, ?it/s]",
      "application/vnd.jupyter.widget-view+json": {
       "version_major": 2,
       "version_minor": 0,
       "model_id": "f8cfe0f6fc234bc1a11520c5427d2c9e"
      }
     },
     "metadata": {},
     "output_type": "display_data"
    }
   ],
   "source": [
    "total_word_count_by_house = None\n",
    "total_word_count_by_gender = None\n",
    "total_word_count_by_party_status = None\n",
    "\n",
    "total_sentences_by_house = None\n",
    "total_sentences_by_gender = None\n",
    "total_sentences_by_party_status = None\n",
    "\n",
    "total_speakers_by_house = None\n",
    "total_speakers_by_gender = None\n",
    "total_speakers_by_party_status = None\n",
    "\n",
    "for i, conllu_path in tqdm(conllu_list):\n",
    "    meta_path = get_meta_file_path(conllu_path)\n",
    "    meta_df = pd.read_csv(meta_path, sep = '\\t')[COLUMN_NAMES]\n",
    "    df = sentences_and_meta_df(conllu_path)\n",
    "\n",
    "    # Add column containing word counts per sentence\n",
    "    df['word_count'] = df['sentence_df'].apply(count_words_in_sentence)\n",
    "\n",
    "    # group dataframe by house, gender and party status\n",
    "    df_by_house = df.groupby('House')\n",
    "    df_by_gender = df.groupby('Speaker_gender')\n",
    "    df_by_party_status =df.groupby('Party_status')\n",
    "\n",
    "    # Aggregate by word counts\n",
    "    word_count_by_house = df_by_house['word_count'].sum()\n",
    "    word_count_by_gender = df_by_gender['word_count'].sum()\n",
    "    word_count_by_party_status = df_by_party_status['word_count'].sum()\n",
    "\n",
    "    # Aggregate by #sentences\n",
    "    sentences_by_house = df_by_house['sent_id'].count()\n",
    "    sentences_by_gender = df_by_gender['sent_id'].count()\n",
    "    sentences_by_party_status = df_by_party_status['sent_id'].count()\n",
    "\n",
    "    # Aggregate unique speakers\n",
    "    speakers_by_house = df_by_house['Speaker_name'].value_counts()\n",
    "    speakers_by_gender = df_by_gender['Speaker_name'].value_counts()\n",
    "    speakers_by_party_status = df_by_party_status['Speaker_name'].value_counts()\n",
    "\n",
    "    if total_speakers_by_house is None:\n",
    "        # first iteration\n",
    "        total_word_count_by_house = word_count_by_house\n",
    "        total_word_count_by_gender = word_count_by_gender\n",
    "        total_word_count_by_party_status = word_count_by_party_status\n",
    "\n",
    "        total_sentences_by_house = sentences_by_house\n",
    "        total_sentences_by_gender = sentences_by_gender\n",
    "        total_sentences_by_party_status = sentences_by_party_status\n",
    "\n",
    "        total_speakers_by_house = speakers_by_house\n",
    "        total_speakers_by_gender = speakers_by_gender\n",
    "        total_speakers_by_party_status = speakers_by_party_status\n",
    "    else:\n",
    "        # All other iterations\n",
    "        total_word_count_by_house = total_word_count_by_house.add(word_count_by_house, fill_value=0)\n",
    "        total_word_count_by_gender = total_word_count_by_gender.add(word_count_by_gender, fill_value=0)\n",
    "        total_word_count_by_party_status = total_word_count_by_party_status.add(word_count_by_party_status, fill_value=0)\n",
    "\n",
    "        total_sentences_by_house = total_sentences_by_house.add(sentences_by_house, fill_value=0)\n",
    "        total_sentences_by_gender = total_sentences_by_gender.add(sentences_by_gender, fill_value=0)\n",
    "        total_sentences_by_party_status = total_sentences_by_party_status.add(sentences_by_party_status, fill_value=0)\n",
    "\n",
    "        total_speakers_by_house = total_speakers_by_house.add(speakers_by_house, fill_value=0)\n",
    "        total_speakers_by_gender = total_speakers_by_gender.add(speakers_by_gender, fill_value=0)\n",
    "        total_speakers_by_party_status = total_speakers_by_party_status.add(speakers_by_party_status, fill_value=0)\n",
    "\n",
    "    if i == 250:\n",
    "        break"
   ],
   "metadata": {
    "collapsed": false
   }
  },
  {
   "cell_type": "code",
   "execution_count": 8,
   "outputs": [
    {
     "name": "stdout",
     "output_type": "stream",
     "text": [
      "House\n",
      "Lower house    8208978.0\n",
      "Upper house    5799556.0\n",
      "Name: word_count, dtype: float64\n"
     ]
    }
   ],
   "source": [
    "print(total_word_count_by_house)"
   ],
   "metadata": {
    "collapsed": false
   }
  },
  {
   "cell_type": "code",
   "execution_count": 9,
   "outputs": [
    {
     "name": "stdout",
     "output_type": "stream",
     "text": [
      "Speaker_gender\n",
      "-       4854.0\n",
      "F    4231840.0\n",
      "M    9771840.0\n",
      "Name: word_count, dtype: float64\n"
     ]
    }
   ],
   "source": [
    "print(total_word_count_by_gender)"
   ],
   "metadata": {
    "collapsed": false
   }
  },
  {
   "cell_type": "code",
   "execution_count": 10,
   "outputs": [
    {
     "name": "stdout",
     "output_type": "stream",
     "text": [
      "Party_status\n",
      "-                 4854.0\n",
      "Coalition       360614.0\n",
      "Opposition    13533466.0\n",
      "Name: word_count, dtype: float64\n"
     ]
    }
   ],
   "source": [
    "print(total_word_count_by_party_status)"
   ],
   "metadata": {
    "collapsed": false
   }
  },
  {
   "cell_type": "code",
   "execution_count": 11,
   "outputs": [
    {
     "name": "stdout",
     "output_type": "stream",
     "text": [
      "House\n",
      "Lower house    346025.0\n",
      "Upper house    245360.0\n",
      "Name: sent_id, dtype: float64\n"
     ]
    }
   ],
   "source": [
    "print(total_sentences_by_house)"
   ],
   "metadata": {
    "collapsed": false
   }
  },
  {
   "cell_type": "code",
   "execution_count": 12,
   "outputs": [
    {
     "name": "stdout",
     "output_type": "stream",
     "text": [
      "Speaker_gender\n",
      "-       574.0\n",
      "F    178727.0\n",
      "M    412084.0\n",
      "Name: sent_id, dtype: float64\n"
     ]
    }
   ],
   "source": [
    "print(total_sentences_by_gender)"
   ],
   "metadata": {
    "collapsed": false
   }
  },
  {
   "cell_type": "code",
   "execution_count": 13,
   "outputs": [
    {
     "name": "stdout",
     "output_type": "stream",
     "text": [
      "Party_status\n",
      "-                574.0\n",
      "Coalition      15373.0\n",
      "Opposition    570848.0\n",
      "Name: sent_id, dtype: float64\n"
     ]
    }
   ],
   "source": [
    "print(total_sentences_by_party_status)"
   ],
   "metadata": {
    "collapsed": false
   }
  },
  {
   "cell_type": "code",
   "execution_count": 14,
   "outputs": [
    {
     "data": {
      "text/plain": "Party_status\n-                1\nCoalition      305\nOpposition    1657\nName: Speaker_name, dtype: int64"
     },
     "execution_count": 14,
     "metadata": {},
     "output_type": "execute_result"
    }
   ],
   "source": [
    "total_speakers_by_party_status.groupby('Party_status').count()"
   ],
   "metadata": {
    "collapsed": false
   }
  },
  {
   "cell_type": "code",
   "execution_count": 15,
   "outputs": [
    {
     "data": {
      "text/plain": "House\nLower house    951\nUpper house    773\nName: Speaker_name, dtype: int64"
     },
     "execution_count": 15,
     "metadata": {},
     "output_type": "execute_result"
    }
   ],
   "source": [
    "total_speakers_by_house.groupby('House').count()"
   ],
   "metadata": {
    "collapsed": false
   }
  },
  {
   "cell_type": "code",
   "execution_count": 16,
   "outputs": [
    {
     "data": {
      "text/plain": "Speaker_gender\n-       1\nF     528\nM    1165\nName: Speaker_name, dtype: int64"
     },
     "execution_count": 16,
     "metadata": {},
     "output_type": "execute_result"
    }
   ],
   "source": [
    "total_speakers_by_gender.groupby('Speaker_gender').count()"
   ],
   "metadata": {
    "collapsed": false
   }
  },
  {
   "cell_type": "code",
   "execution_count": null,
   "outputs": [],
   "source": [],
   "metadata": {
    "collapsed": false
   }
  }
 ],
 "metadata": {
  "kernelspec": {
   "display_name": "Python 3",
   "language": "python",
   "name": "python3"
  },
  "language_info": {
   "codemirror_mode": {
    "name": "ipython",
    "version": 2
   },
   "file_extension": ".py",
   "mimetype": "text/x-python",
   "name": "python",
   "nbconvert_exporter": "python",
   "pygments_lexer": "ipython2",
   "version": "2.7.6"
  }
 },
 "nbformat": 4,
 "nbformat_minor": 0
}
