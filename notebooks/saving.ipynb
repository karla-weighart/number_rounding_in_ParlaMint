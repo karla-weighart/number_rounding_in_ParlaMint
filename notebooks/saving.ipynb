{
 "cells": [
  {
   "cell_type": "code",
   "execution_count": 1,
   "metadata": {
    "collapsed": true
   },
   "outputs": [
    {
     "name": "stdout",
     "output_type": "stream",
     "text": [
      "C:\\Users\\karla\\PycharmProjects\\gender_linguistics_on_ParlaMint\n"
     ]
    },
    {
     "name": "stderr",
     "output_type": "stream",
     "text": [
      "C:\\Users\\karla\\PycharmProjects\\gender_linguistics_on_ParlaMint\\feature_extraction.py:143: SyntaxWarning: \"is\" with a literal. Did you mean \"==\"?\n",
      "  or _sentence.loc[connector_index, 'upos'] is 'CCONJ':\n"
     ]
    }
   ],
   "source": [
    "%cd ..\n",
    "# I need this to access modules from the main folder. Do not move this comment up into the same line\n",
    "\n",
    "import pandas as pd\n",
    "from tqdm.notebook import tqdm\n",
    "import swifter\n",
    "\n",
    "from generate_dataframe import generate_sentences_and_meta_df_from_multiple_files\n",
    "from load_saved_dataframe import load_saved_df\n",
    "\n",
    "from helper_methods import num_list\n",
    "from feature_extraction import group_nums, parse_num_groups, find_roundedness"
   ]
  },
  {
   "cell_type": "code",
   "execution_count": 2,
   "outputs": [],
   "source": [
    "save_name = \"test\" # \"complete_2023_01_14\"\n",
    "saving = True\n",
    "from_saved = False\n",
    "number_of_files = 10"
   ],
   "metadata": {
    "collapsed": false
   }
  },
  {
   "cell_type": "code",
   "execution_count": 3,
   "outputs": [
    {
     "data": {
      "text/plain": "  0%|          | 0/10 [00:00<?, ?it/s]",
      "application/vnd.jupyter.widget-view+json": {
       "version_major": 2,
       "version_minor": 0,
       "model_id": "fff5d8c3f7c84814ad56d754e3e7fab4"
      }
     },
     "metadata": {},
     "output_type": "display_data"
    }
   ],
   "source": [
    "df = generate_sentences_and_meta_df_from_multiple_files(number_of_files=number_of_files)"
   ],
   "metadata": {
    "collapsed": false
   }
  },
  {
   "cell_type": "code",
   "execution_count": 4,
   "outputs": [],
   "source": [
    "if saving:\n",
    "    df.to_csv(f\"C:/Users/karla/Desktop/Zula_Data_all_in_one/{save_name}.csv\")"
   ],
   "metadata": {
    "collapsed": false
   }
  },
  {
   "cell_type": "code",
   "execution_count": 5,
   "outputs": [],
   "source": [
    "if from_saved:\n",
    "    df = load_saved_df(f\"C:/Users/karla/Desktop/Zula_Data_all_in_one/{save_name}.csv\")"
   ],
   "metadata": {
    "collapsed": false
   }
  },
  {
   "cell_type": "code",
   "execution_count": 6,
   "outputs": [
    {
     "data": {
      "text/plain": "Pandas Apply:   0%|          | 0/4448 [00:00<?, ?it/s]",
      "application/vnd.jupyter.widget-view+json": {
       "version_major": 2,
       "version_minor": 0,
       "model_id": "e86c1fac56e647a19ab29f99847dd6f3"
      }
     },
     "metadata": {},
     "output_type": "display_data"
    }
   ],
   "source": [
    "df['sentence_grouped_nums'] = df['sentence'].swifter.apply(group_nums)"
   ],
   "metadata": {
    "collapsed": false
   }
  },
  {
   "cell_type": "code",
   "execution_count": 7,
   "outputs": [],
   "source": [
    "if saving:\n",
    "    df.to_csv(f\"C:/Users/karla/Desktop/Zula_Data_all_in_one/{save_name}+group.csv\")"
   ],
   "metadata": {
    "collapsed": false
   }
  },
  {
   "cell_type": "code",
   "execution_count": 8,
   "outputs": [
    {
     "data": {
      "text/plain": "Pandas Apply:   0%|          | 0/4448 [00:00<?, ?it/s]",
      "application/vnd.jupyter.widget-view+json": {
       "version_major": 2,
       "version_minor": 0,
       "model_id": "3901833273cf4592bc42205552fa5a8c"
      }
     },
     "metadata": {},
     "output_type": "display_data"
    }
   ],
   "source": [
    "df['sentence_parsed_num_groups'] = df['sentence_grouped_nums'].swifter.apply(parse_num_groups)"
   ],
   "metadata": {
    "collapsed": false
   }
  },
  {
   "cell_type": "code",
   "execution_count": 9,
   "outputs": [],
   "source": [
    "if saving:\n",
    "    df.to_csv(f\"C:/Users/karla/Desktop/Zula_Data_all_in_one/{save_name}+group+parsed.csv\")"
   ],
   "metadata": {
    "collapsed": false
   }
  },
  {
   "cell_type": "code",
   "execution_count": 10,
   "outputs": [
    {
     "data": {
      "text/plain": "Pandas Apply:   0%|          | 0/4448 [00:00<?, ?it/s]",
      "application/vnd.jupyter.widget-view+json": {
       "version_major": 2,
       "version_minor": 0,
       "model_id": "9fc02f7237f8415da921dc2059cd9d97"
      }
     },
     "metadata": {},
     "output_type": "display_data"
    }
   ],
   "source": [
    "df['NUMs'] = df['sentence_parsed_num_groups'].swifter.apply(num_list)"
   ],
   "metadata": {
    "collapsed": false
   }
  },
  {
   "cell_type": "code",
   "execution_count": 11,
   "outputs": [],
   "source": [
    "if saving:\n",
    "    df.to_csv(f\"C:/Users/karla/Desktop/Zula_Data_all_in_one/{save_name}+group+parsed+separated.csv\")"
   ],
   "metadata": {
    "collapsed": false
   }
  },
  {
   "cell_type": "code",
   "execution_count": 12,
   "outputs": [],
   "source": [
    "df = df.explode('NUMs').reset_index(drop=True)"
   ],
   "metadata": {
    "collapsed": false
   }
  },
  {
   "cell_type": "code",
   "execution_count": 13,
   "outputs": [],
   "source": [
    "if saving:\n",
    "    df.to_csv(f\"C:/Users/karla/Desktop/Zula_Data_all_in_one/{save_name}+group+parsed+separated+exploded.csv\")"
   ],
   "metadata": {
    "collapsed": false
   }
  },
  {
   "cell_type": "code",
   "execution_count": 14,
   "outputs": [
    {
     "data": {
      "text/plain": "Pandas Apply:   0%|          | 0/6709 [00:00<?, ?it/s]",
      "application/vnd.jupyter.widget-view+json": {
       "version_major": 2,
       "version_minor": 0,
       "model_id": "ab84a09b778c45989700b89b6bf07885"
      }
     },
     "metadata": {},
     "output_type": "display_data"
    }
   ],
   "source": [
    "df['roundedness'] = df['NUMs'].swifter.apply(find_roundedness)"
   ],
   "metadata": {
    "collapsed": false
   }
  },
  {
   "cell_type": "code",
   "execution_count": 15,
   "outputs": [],
   "source": [
    "if saving:\n",
    "    df.to_csv(f\"C:/Users/karla/Desktop/Zula_Data_all_in_one/{save_name}+group+parsed+separated+exploded+roundedness.csv\")"
   ],
   "metadata": {
    "collapsed": false
   }
  }
 ],
 "metadata": {
  "kernelspec": {
   "name": "conda-env-Linguistics-py",
   "language": "python",
   "display_name": "Python [conda env:Linguistics] *"
  },
  "language_info": {
   "codemirror_mode": {
    "name": "ipython",
    "version": 2
   },
   "file_extension": ".py",
   "mimetype": "text/x-python",
   "name": "python",
   "nbconvert_exporter": "python",
   "pygments_lexer": "ipython2",
   "version": "2.7.6"
  }
 },
 "nbformat": 4,
 "nbformat_minor": 0
}
