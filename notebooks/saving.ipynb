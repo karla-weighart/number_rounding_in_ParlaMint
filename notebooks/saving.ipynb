{
 "cells": [
  {
   "cell_type": "markdown",
   "source": [
    "# Imports"
   ],
   "metadata": {
    "collapsed": false
   }
  },
  {
   "cell_type": "code",
   "execution_count": 1,
   "metadata": {
    "collapsed": true
   },
   "outputs": [
    {
     "name": "stdout",
     "output_type": "stream",
     "text": [
      "C:\\Users\\karla\\PycharmProjects\\gender_linguistics_on_ParlaMint\n"
     ]
    }
   ],
   "source": [
    "import numpy as np\n",
    "%cd ..\n",
    "# I need this to access modules from the main folder. Do not move this comment up into the same line\n",
    "\n",
    "import pandas as pd\n",
    "from tqdm.notebook import tqdm\n",
    "import swifter\n",
    "import matplotlib.pyplot as plt\n",
    "import seaborn as sns\n",
    "from scipy import stats as st\n",
    "\n",
    "from generate_dataframe import generate_sentences_and_meta_df_from_multiple_files\n",
    "from load_saved_dataframe import load_saved_df\n",
    "from numerals import *\n",
    "from concordance import *\n",
    "from helper_methods import try_apply, drop_na_with_count"
   ]
  },
  {
   "cell_type": "markdown",
   "source": [
    "# Set Parameters"
   ],
   "metadata": {
    "collapsed": false
   }
  },
  {
   "cell_type": "code",
   "execution_count": 2,
   "outputs": [],
   "source": [
    "save_name = \"200_files_2023-02-27\"\n",
    "saving = False\n",
    "from_saved = False\n",
    "number_of_files = 100\n",
    "random_seed = 1341995"
   ],
   "metadata": {
    "collapsed": false
   }
  },
  {
   "cell_type": "markdown",
   "source": [
    "# Run"
   ],
   "metadata": {
    "collapsed": false
   }
  },
  {
   "cell_type": "markdown",
   "source": [
    "## Load / Generate"
   ],
   "metadata": {
    "collapsed": false
   }
  },
  {
   "cell_type": "code",
   "execution_count": null,
   "outputs": [
    {
     "data": {
      "text/plain": "Generating Dataframe:   0%|          | 0/100 [00:00<?, ?it/s]",
      "application/vnd.jupyter.widget-view+json": {
       "version_major": 2,
       "version_minor": 0,
       "model_id": "6108de8fbe7a4ff6a3f1879b7be80444"
      }
     },
     "metadata": {},
     "output_type": "display_data"
    }
   ],
   "source": [
    "if from_saved:\n",
    "    df = load_saved_df(f\"C:/Users/karla/Desktop/Zula_Data_all_in_one/{save_name}.csv\")\n",
    "else:\n",
    "    df = generate_sentences_and_meta_df_from_multiple_files(number_of_files=number_of_files, random_seed=random_seed)\n",
    "    if saving:\n",
    "        df.to_csv(f\"C:/Users/karla/Desktop/Zula_Data_all_in_one/{save_name}.csv\")"
   ],
   "metadata": {
    "collapsed": false,
    "pycharm": {
     "is_executing": true
    }
   }
  },
  {
   "cell_type": "code",
   "execution_count": null,
   "outputs": [],
   "source": [
    "n_sentences = df.shape[0]\n",
    "print(f\"total # of sentences: {n_sentences}\")\n",
    "df, dropped_due_to_original_nan = drop_na_with_count(df)\n",
    "print(f\"#numbers_dropped_due_to_original_nan: {dropped_due_to_original_nan}\")"
   ],
   "metadata": {
    "collapsed": false,
    "pycharm": {
     "is_executing": true
    }
   }
  },
  {
   "cell_type": "markdown",
   "source": [
    "## Numerals"
   ],
   "metadata": {
    "collapsed": false
   }
  },
  {
   "cell_type": "code",
   "execution_count": null,
   "outputs": [],
   "source": [
    "func_arg_res = [(group_nums, 'sentence', 'sentence_grouped_nums'),\n",
    "             (parse_num_groups, 'sentence_grouped_nums', 'sentence_parsed_num_groups'),\n",
    "             (num_list, 'sentence_parsed_num_groups', 'NUMs')]\n",
    "            # function, argument_column, result_column\n",
    "\n",
    "drops_per_func = {}\n",
    "\n",
    "for func, arg_col, res_col in func_arg_res:\n",
    "    func_name = func.__name__\n",
    "    print(f\"Applying {func_name}\")\n",
    "    df[res_col] = df[arg_col].swifter.apply((lambda c: try_apply(func, c)))\n",
    "    df, drops_per_func[func_name] = drop_na_with_count(df)\n",
    "\n",
    "print(\"drop_reason\".rjust(16)+\" | #sentences_dropped\"+\"\\n\"+(\"=\"*37))\n",
    "for func, _, _ in func_arg_res:\n",
    "    func_name = func.__name__\n",
    "    print(func_name.rjust(16)+f\" | {drops_per_func[func_name]}\")"
   ],
   "metadata": {
    "collapsed": false
   }
  },
  {
   "cell_type": "code",
   "execution_count": null,
   "outputs": [],
   "source": [
    "df = df.explode('NUMs').reset_index(drop=True)\n",
    "df['num_index'], placeholder = zip(*df['NUMs'])\n",
    "(df['num_as_str'], df['num_value']) = zip(*placeholder)\n",
    "n_numbers = df.shape[0]\n",
    "print(f\"#numbers: {n_numbers}\")"
   ],
   "metadata": {
    "collapsed": false
   }
  },
  {
   "cell_type": "code",
   "execution_count": null,
   "outputs": [],
   "source": [
    "df['is_float-like'], df['n_proper_digits'], df['n_zeroes'], df['n_decimals'] = zip(*df['num_as_str'].swifter.apply(lambda cell: try_apply(find_roundedness, cell)))\n",
    "\n",
    "df, dropped_by_find_roundedness = drop_na_with_count(df)\n",
    "\n",
    "print(f\"#numbers_dropped_by_find_roundedness: {dropped_by_find_roundedness}\")"
   ],
   "metadata": {
    "collapsed": false
   }
  },
  {
   "cell_type": "code",
   "execution_count": null,
   "outputs": [],
   "source": [
    "def find_relative_error(row):\n",
    "    if row['is_float-like']:\n",
    "        return np.nan # TODO. propably make num_list return number of digits before and after decimal point as well. then relative_error(floaty) = 10**(-n_nachkommastellen) / num_value (i think. make a couple of examples to prove this)\n",
    "    else:\n",
    "        return (10**row['n_zeroes'])/row['num_value']\n",
    "\n",
    "df['relative_error'] = df.apply(find_relative_error, axis=1)"
   ],
   "metadata": {
    "collapsed": false
   }
  },
  {
   "cell_type": "code",
   "execution_count": null,
   "outputs": [],
   "source": [
    "df"
   ],
   "metadata": {
    "collapsed": false
   }
  },
  {
   "cell_type": "markdown",
   "source": [
    "## Statistics"
   ],
   "metadata": {
    "collapsed": false
   }
  },
  {
   "cell_type": "code",
   "execution_count": null,
   "outputs": [],
   "source": [
    "dfs = {'float_likes_only_df': df[df['is_float-like']],\n",
    "       'int_likes_only_df': df[df['is_float-like'] == False]\n",
    "       }\n",
    "\n",
    "binary_independent_variables = {'is_upper_house': ('house', 'lower_house', 'upper_house'),\n",
    "                    'is_chairperson': ('speaker_role', 'regular', 'chairperson'),\n",
    "                    'is_mp': ('speaker_type', 'notMP', 'MP'),\n",
    "                    'is_female': ('gender', 'male', 'female')\n",
    "                    }\n",
    "                    # column_name, variable_name, value1 (False), value2 (True)\n",
    "# TODO: Party_status! -> dropna??!!!!!!!!!!!!!!!!!!!!!!\n",
    "\n",
    "\n",
    "dependent_variables = ['num_value', 'n_proper_digits', 'n_zeroes', 'relative_error']\n",
    "max_dv_name_len = max((len(_dv) for _dv in dependent_variables))"
   ],
   "metadata": {
    "collapsed": false
   }
  },
  {
   "cell_type": "markdown",
   "source": [
    "### Binary Independent Variables"
   ],
   "metadata": {
    "collapsed": false
   }
  },
  {
   "cell_type": "code",
   "execution_count": null,
   "outputs": [],
   "source": [
    "for biv in binary_independent_variables.keys():\n",
    "    print(\"=\"*20,\"\\n\",biv,\"\\n\",\"-\"*18)\n",
    "    print(df[biv].value_counts())"
   ],
   "metadata": {
    "collapsed": false
   }
  },
  {
   "cell_type": "code",
   "execution_count": null,
   "outputs": [],
   "source": [
    "for df_name, _df in dfs.items():\n",
    "    print(f\"{'='*len(df_name)}\\n{df_name}\\n{'='*len(df_name)}\")\n",
    "\n",
    "    for biv in binary_independent_variables.keys():\n",
    "        print(f\"{'-'*len(biv)}\\n{biv}\\n{'-'*len(biv)}\")\n",
    "\n",
    "        # mannwhitneyu can only be calculated for two samples. sometimes, only one sample exists\n",
    "        # (e.g. if all speakers are MPs --> _df[_df['is_mp'] == False] is empty)\n",
    "        if len(_df[_df[biv] == True][dv]) != 0 and len(_df[_df[biv] == False][dv]) != 0:\n",
    "\n",
    "            for dv in dependent_variables:\n",
    "                mannwhitneyu_result = st.mannwhitneyu(_df[_df[biv] == True][dv], _df[_df[biv] == False][dv])\n",
    "                print(f\"{dv.ljust(max_dv_name_len)}: {mannwhitneyu_result}\")\n",
    "\n",
    "                pointbiserial_result = st.pointbiserialr(_df[biv], _df[dv])\n",
    "                print(f\"{dv.ljust(max_dv_name_len)}: {pointbiserial_result}\")\n",
    "\n",
    "                print(\"\")\n",
    "        else:\n",
    "            print(\"binary independent variable only takes on one value --> 'unary' independent variable\")"
   ],
   "metadata": {
    "collapsed": false
   }
  },
  {
   "cell_type": "markdown",
   "source": [
    "### Semi-Binary Independent Variable 'Party_status'"
   ],
   "metadata": {
    "collapsed": false
   }
  },
  {
   "cell_type": "markdown",
   "source": [
    "## Plots"
   ],
   "metadata": {
    "collapsed": false
   }
  },
  {
   "cell_type": "markdown",
   "source": [
    "### Histograms"
   ],
   "metadata": {
    "collapsed": false
   }
  },
  {
   "cell_type": "code",
   "execution_count": null,
   "outputs": [],
   "source": [
    "for df_name, _df in dfs.items():\n",
    "    print(f\"{'='*len(df_name)}\\n{df_name}\\n{'='*len(df_name)}\")\n",
    "    for dv in dependent_variables:\n",
    "\n",
    "        plt.title(\"complete data\")\n",
    "\n",
    "        if dv == 'num_value':\n",
    "            plt.xscale('log')\n",
    "            bins = [10**(i) for i in range(15)]\n",
    "        else:\n",
    "            bins = range(15)\n",
    "\n",
    "        plt.xlabel(dv)\n",
    "\n",
    "        plt.hist(_df[dv], bins=bins)\n",
    "\n",
    "        plt.show()"
   ],
   "metadata": {
    "collapsed": false
   }
  },
  {
   "cell_type": "code",
   "execution_count": null,
   "outputs": [],
   "source": [
    "for df_name, _df in dfs.items():\n",
    "    print(f\"{'='*len(df_name)}\\n{df_name}\\n{'='*len(df_name)}\")\n",
    "\n",
    "    for biv_key, (biv_name, biv_false_value, biv_true_value) in binary_independent_variables.items():\n",
    "\n",
    "        for biv_value, biv_value_bool in ((biv_false_value, False), (biv_true_value, True)):\n",
    "\n",
    "            for dv in dependent_variables:\n",
    "\n",
    "                plt.title(f\"{biv_name}: {biv_value}\")\n",
    "\n",
    "                if dv == 'num_value':\n",
    "                    plt.xscale('log')\n",
    "                    bins = [5**i for i in range(30)]\n",
    "                else:\n",
    "                    bins = range(15)\n",
    "\n",
    "                plt.xlabel(dv)\n",
    "\n",
    "                plt.hist(_df[_df[biv_key] == biv_value_bool][dv], bins=bins)\n",
    "\n",
    "                plt.show()"
   ],
   "metadata": {
    "collapsed": false
   }
  },
  {
   "cell_type": "markdown",
   "source": [
    "### Scatterplots"
   ],
   "metadata": {
    "collapsed": false
   }
  },
  {
   "cell_type": "code",
   "execution_count": null,
   "outputs": [],
   "source": [
    "for df_name, _df in dfs.values():\n",
    "    print(df_name)\n",
    "    for column_name, ind_variable, value_1, value_2 in col_indvar_v1_v2:\n",
    "        # TODO: ('Party_status', 'party_status', '?', '??'),\n",
    "        data = _df.copy()\n",
    "        data[ind_variable] = np.choose(data[column_name], [value_1, value_2])\n",
    "        sns.scatterplot(x='num_value', y='n_zeroes', hue=ind_variable, data=data)\n",
    "        plt.xscale('log')\n",
    "        plt.show()"
   ],
   "metadata": {
    "collapsed": false
   }
  },
  {
   "cell_type": "markdown",
   "source": [
    "## Concordance"
   ],
   "metadata": {
    "collapsed": false
   }
  },
  {
   "cell_type": "code",
   "execution_count": null,
   "outputs": [],
   "source": [
    "df['num_ancestors'] = df.swifter.apply(concordance_ancestors_on_row, axis=1)"
   ],
   "metadata": {
    "collapsed": false
   }
  },
  {
   "cell_type": "code",
   "execution_count": null,
   "outputs": [],
   "source": [
    "df['num_ancestor_set'] = df['num_ancestors'].swifter.apply(lambda cell: try_apply(ancestry_set, cell))"
   ],
   "metadata": {
    "collapsed": false
   }
  },
  {
   "cell_type": "code",
   "execution_count": null,
   "outputs": [],
   "source": [
    "if saving:\n",
    "    df.to_csv(f\"C:/Users/karla/Desktop/Zula_Data_all_in_one/{save_name}+group+parsed+separated+exploded+roundedness+ancestors.csv\")"
   ],
   "metadata": {
    "collapsed": false
   }
  },
  {
   "cell_type": "code",
   "execution_count": null,
   "outputs": [],
   "source": [
    "df['num_descendants'] = df.swifter.apply(concordance_descendants_on_row, axis=1)"
   ],
   "metadata": {
    "collapsed": false
   }
  },
  {
   "cell_type": "code",
   "execution_count": null,
   "outputs": [],
   "source": [
    "df['num_descendant_set'] = df['num_descendants'].swifter.apply(ancestry_set)"
   ],
   "metadata": {
    "collapsed": false
   }
  },
  {
   "cell_type": "code",
   "execution_count": null,
   "outputs": [],
   "source": [
    "if saving:\n",
    "    df.to_csv(f\"C:/Users/karla/Desktop/Zula_Data_all_in_one/{save_name}+group+parsed+separated+exploded+roundedness+ancestors+descendants.csv\")"
   ],
   "metadata": {
    "collapsed": false
   }
  },
  {
   "cell_type": "code",
   "execution_count": null,
   "outputs": [],
   "source": [
    "value_count_num_descendant_set = df['num_descendant_set'].value_counts()\n",
    "value_count_num_descendant_set"
   ],
   "metadata": {
    "collapsed": false
   }
  },
  {
   "cell_type": "code",
   "execution_count": null,
   "outputs": [],
   "source": [
    "value_count_num_ancestor_set = df['num_ancestor_set'].value_counts()\n",
    "value_count_num_ancestor_set"
   ],
   "metadata": {
    "collapsed": false
   }
  },
  {
   "cell_type": "code",
   "execution_count": null,
   "outputs": [],
   "source": [
    "float_df = df[df['float-like']]"
   ],
   "metadata": {
    "collapsed": false
   }
  },
  {
   "cell_type": "code",
   "execution_count": null,
   "outputs": [],
   "source": [
    "int_df = df[df['float-like']==False]"
   ],
   "metadata": {
    "collapsed": false
   }
  },
  {
   "cell_type": "code",
   "execution_count": null,
   "outputs": [],
   "source": [
    "data = int_df.copy()\n",
    "sns.scatterplot(x='num_value', y='n_zeroes', hue='Party_status', data=data)\n",
    "plt.xscale('log')\n",
    "plt.show()"
   ],
   "metadata": {
    "collapsed": false
   }
  },
  {
   "cell_type": "code",
   "execution_count": null,
   "outputs": [],
   "source": [],
   "metadata": {
    "collapsed": false
   }
  },
  {
   "cell_type": "code",
   "execution_count": null,
   "outputs": [],
   "source": [],
   "metadata": {
    "collapsed": false
   }
  },
  {
   "cell_type": "code",
   "execution_count": null,
   "outputs": [],
   "source": [],
   "metadata": {
    "collapsed": false
   }
  }
 ],
 "metadata": {
  "kernelspec": {
   "name": "conda-env-Linguistics-py",
   "language": "python",
   "display_name": "Python [conda env:Linguistics] *"
  },
  "language_info": {
   "codemirror_mode": {
    "name": "ipython",
    "version": 2
   },
   "file_extension": ".py",
   "mimetype": "text/x-python",
   "name": "python",
   "nbconvert_exporter": "python",
   "pygments_lexer": "ipython2",
   "version": "2.7.6"
  }
 },
 "nbformat": 4,
 "nbformat_minor": 0
}
