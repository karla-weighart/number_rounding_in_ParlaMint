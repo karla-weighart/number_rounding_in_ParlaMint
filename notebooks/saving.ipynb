{
 "cells": [
  {
   "cell_type": "markdown",
   "source": [
    "# Imports"
   ],
   "metadata": {
    "collapsed": false
   }
  },
  {
   "cell_type": "code",
   "execution_count": 1,
   "metadata": {
    "collapsed": true
   },
   "outputs": [
    {
     "name": "stdout",
     "output_type": "stream",
     "text": [
      "C:\\Users\\karla\\PycharmProjects\\gender_linguistics_on_ParlaMint\n"
     ]
    }
   ],
   "source": [
    "import numpy as np\n",
    "%cd ..\n",
    "# I need this to access modules from the main folder. Do not move this comment up into the same line\n",
    "\n",
    "import pandas as pd\n",
    "from tqdm.notebook import tqdm\n",
    "import swifter\n",
    "import matplotlib.pyplot as plt\n",
    "import seaborn as sns\n",
    "from scipy import stats as st\n",
    "\n",
    "from generate_dataframe import generate_sentences_and_meta_df_from_multiple_files\n",
    "from load_saved_dataframe import load_saved_df\n",
    "from numerals import *\n",
    "from concordance import *\n",
    "from helper_methods import try_apply, drop_na_with_count"
   ]
  },
  {
   "cell_type": "markdown",
   "source": [
    "# Set Parameters"
   ],
   "metadata": {
    "collapsed": false
   }
  },
  {
   "cell_type": "code",
   "execution_count": 2,
   "outputs": [],
   "source": [
    "save_name = \"200_files_2023-02-27\"\n",
    "saving = False\n",
    "from_saved = False\n",
    "number_of_files = 100\n",
    "random_seed = 1341995"
   ],
   "metadata": {
    "collapsed": false
   }
  },
  {
   "cell_type": "markdown",
   "source": [
    "# Run"
   ],
   "metadata": {
    "collapsed": false
   }
  },
  {
   "cell_type": "markdown",
   "source": [
    "## Load / Generate"
   ],
   "metadata": {
    "collapsed": false
   }
  },
  {
   "cell_type": "code",
   "execution_count": 3,
   "outputs": [
    {
     "data": {
      "text/plain": "Generating Dataframe:   0%|          | 0/100 [00:00<?, ?it/s]",
      "application/vnd.jupyter.widget-view+json": {
       "version_major": 2,
       "version_minor": 0,
       "model_id": "6108de8fbe7a4ff6a3f1879b7be80444"
      }
     },
     "metadata": {},
     "output_type": "display_data"
    }
   ],
   "source": [
    "if from_saved:\n",
    "    df = load_saved_df(f\"C:/Users/karla/Desktop/Zula_Data_all_in_one/{save_name}.csv\")\n",
    "else:\n",
    "    df = generate_sentences_and_meta_df_from_multiple_files(number_of_files=number_of_files, random_seed=random_seed)\n",
    "    if saving:\n",
    "        df.to_csv(f\"C:/Users/karla/Desktop/Zula_Data_all_in_one/{save_name}.csv\")"
   ],
   "metadata": {
    "collapsed": false
   }
  },
  {
   "cell_type": "code",
   "execution_count": 4,
   "outputs": [
    {
     "name": "stdout",
     "output_type": "stream",
     "text": [
      "total # of sentences: 48501\n",
      "#numbers_dropped_due_to_original_nan: 203\n"
     ]
    }
   ],
   "source": [
    "n_sentences = df.shape[0]\n",
    "print(f\"total # of sentences: {n_sentences}\")\n",
    "df, dropped_due_to_original_nan = drop_na_with_count(df)\n",
    "print(f\"#numbers_dropped_due_to_original_nan: {dropped_due_to_original_nan}\")"
   ],
   "metadata": {
    "collapsed": false
   }
  },
  {
   "cell_type": "markdown",
   "source": [
    "## Numerals"
   ],
   "metadata": {
    "collapsed": false
   }
  },
  {
   "cell_type": "code",
   "execution_count": 5,
   "outputs": [
    {
     "name": "stdout",
     "output_type": "stream",
     "text": [
      "Applying group_nums\n"
     ]
    },
    {
     "data": {
      "text/plain": "Pandas Apply:   0%|          | 0/48298 [00:00<?, ?it/s]",
      "application/vnd.jupyter.widget-view+json": {
       "version_major": 2,
       "version_minor": 0,
       "model_id": "08df620a1242401c9f5cc521d51f1c56"
      }
     },
     "metadata": {},
     "output_type": "display_data"
    },
    {
     "name": "stdout",
     "output_type": "stream",
     "text": [
      "Applying parse_num_groups\n"
     ]
    },
    {
     "data": {
      "text/plain": "Pandas Apply:   0%|          | 0/47767 [00:00<?, ?it/s]",
      "application/vnd.jupyter.widget-view+json": {
       "version_major": 2,
       "version_minor": 0,
       "model_id": "88d37ca9d5f44f3d968cbd76446d771c"
      }
     },
     "metadata": {},
     "output_type": "display_data"
    },
    {
     "name": "stdout",
     "output_type": "stream",
     "text": [
      "Applying num_list\n"
     ]
    },
    {
     "data": {
      "text/plain": "Pandas Apply:   0%|          | 0/47201 [00:00<?, ?it/s]",
      "application/vnd.jupyter.widget-view+json": {
       "version_major": 2,
       "version_minor": 0,
       "model_id": "e0d3343bee134136be877a9425da9194"
      }
     },
     "metadata": {},
     "output_type": "display_data"
    },
    {
     "name": "stdout",
     "output_type": "stream",
     "text": [
      "     drop_reason | #sentences_dropped\n",
      "=====================================\n",
      "      group_nums | 531\n",
      "parse_num_groups | 566\n",
      "        num_list | 0\n"
     ]
    }
   ],
   "source": [
    "func_arg_res = [(group_nums, 'sentence', 'sentence_grouped_nums'),\n",
    "             (parse_num_groups, 'sentence_grouped_nums', 'sentence_parsed_num_groups'),\n",
    "             (num_list, 'sentence_parsed_num_groups', 'NUMs')]\n",
    "            # function, argument_column, result_column\n",
    "\n",
    "drops_per_func = {}\n",
    "\n",
    "for func, arg_col, res_col in func_arg_res:\n",
    "    func_name = func.__name__\n",
    "    print(f\"Applying {func_name}\")\n",
    "    df[res_col] = df[arg_col].swifter.apply((lambda c: try_apply(func, c)))\n",
    "    df, drops_per_func[func_name] = drop_na_with_count(df)\n",
    "\n",
    "print(\"drop_reason\".rjust(16)+\" | #sentences_dropped\"+\"\\n\"+(\"=\"*37))\n",
    "for func_name, drops in drops_per_func.items():\n",
    "    print(func_name.rjust(16)+f\" | {drops}\")"
   ],
   "metadata": {
    "collapsed": false
   }
  },
  {
   "cell_type": "code",
   "execution_count": 6,
   "outputs": [
    {
     "name": "stdout",
     "output_type": "stream",
     "text": [
      "#numbers: 69970\n"
     ]
    }
   ],
   "source": [
    "df = df.explode('NUMs').reset_index(drop=True)\n",
    "df['num_index'], placeholder = zip(*df['NUMs'])\n",
    "(df['num_as_str'], df['num_value']) = zip(*placeholder)\n",
    "n_numbers = df.shape[0]\n",
    "print(f\"#numbers: {n_numbers}\")"
   ],
   "metadata": {
    "collapsed": false
   }
  },
  {
   "cell_type": "code",
   "execution_count": 7,
   "outputs": [
    {
     "data": {
      "text/plain": "Pandas Apply:   0%|          | 0/69970 [00:00<?, ?it/s]",
      "application/vnd.jupyter.widget-view+json": {
       "version_major": 2,
       "version_minor": 0,
       "model_id": "f9a0f24ff86c401382c95bbce76c75c2"
      }
     },
     "metadata": {},
     "output_type": "display_data"
    },
    {
     "name": "stdout",
     "output_type": "stream",
     "text": [
      "#numbers_dropped_by_find_roundedness: 486\n"
     ]
    }
   ],
   "source": [
    "df['is_float-like'], df['n_proper_digits'], df['n_zeroes'], df['n_decimals'] = zip(*df['num_as_str'].swifter.apply(lambda cell: try_apply(find_roundedness, cell)))\n",
    "\n",
    "df, dropped_by_find_roundedness = drop_na_with_count(df)\n",
    "\n",
    "print(f\"#numbers_dropped_by_find_roundedness: {dropped_by_find_roundedness}\")"
   ],
   "metadata": {
    "collapsed": false
   }
  },
  {
   "cell_type": "code",
   "execution_count": 8,
   "outputs": [],
   "source": [
    "df['absolute_error'], df['relative_error'] = zip(*df.apply(find_uncertainty, axis=1))"
   ],
   "metadata": {
    "collapsed": false
   }
  },
  {
   "cell_type": "code",
   "execution_count": 9,
   "outputs": [
    {
     "data": {
      "text/plain": "                         sent_id  \\\n0      2015-09-16-commons.seg1.2   \n1      2015-09-16-commons.seg3.1   \n2      2015-09-16-commons.seg4.2   \n3      2015-09-16-commons.seg7.2   \n4      2015-09-16-commons.seg8.1   \n...                          ...   \n69965  2015-10-29-lords.seg613.3   \n69966  2015-10-29-lords.seg613.3   \n69967  2015-10-29-lords.seg614.3   \n69968  2015-10-29-lords.seg614.4   \n69969  2015-10-29-lords.seg619.3   \n\n                                                sentence  \\\n0      {'form': ['What', 'assessment', 'he', 'has', '...   \n1      {'form': ['The', 'summer', 'Budget', 'was', 'a...   \n2      {'form': ['The', 'Budget', 'actually', 'cut', ...   \n3      {'form': ['What', 'we', 'have', 'seen', 'over'...   \n4      {'form': ['The', 'Prime', 'Minister', 'repeate...   \n...                                                  ...   \n69965  {'form': ['It', 'is', 'used', 'by', 'Channel',...   \n69966  {'form': ['It', 'is', 'used', 'by', 'Channel',...   \n69967  {'form': ['The', 'ASA', 'chair', 'is', 'appoin...   \n69968  {'form': ['Two', '-', 'thirds', 'of', 'council...   \n69969  {'form': ['Latest', 'data', 'show', 'customer'...   \n\n                utterance_id Speaker_party Party_status  \\\n0      2015-09-16-commons.u1           LAB   Opposition   \n1      2015-09-16-commons.u2           CON   Opposition   \n2      2015-09-16-commons.u3           LAB   Opposition   \n3      2015-09-16-commons.u6           CON   Opposition   \n4      2015-09-16-commons.u7           LAB   Opposition   \n...                      ...           ...          ...   \n69965  2015-10-29-lords.u146           CON   Opposition   \n69966  2015-10-29-lords.u146           CON   Opposition   \n69967  2015-10-29-lords.u146           CON   Opposition   \n69968  2015-10-29-lords.u146           CON   Opposition   \n69969  2015-10-29-lords.u146           CON   Opposition   \n\n                 Speaker_name  is_mp  is_female  is_upper_house  \\\n0                  Clwyd, Ann   True       True           False   \n1              Crabb, Stephen   True      False           False   \n2                  Clwyd, Ann   True       True           False   \n3              Crabb, Stephen   True      False           False   \n4      Griffith, Nia Rhiannon   True       True           False   \n...                       ...    ...        ...             ...   \n69965         Stopford, James   True      False            True   \n69966         Stopford, James   True      False            True   \n69967         Stopford, James   True      False            True   \n69968         Stopford, James   True      False            True   \n69969         Stopford, James   True      False            True   \n\n       is_chairperson  ...                         sentence_parsed_num_groups  \\\n0               False  ...  {'form': ['What', 'assessment', 'he', 'has', '...   \n1               False  ...  {'form': ['The', 'summer', 'Budget', 'was', 'a...   \n2               False  ...  {'form': ['The', 'Budget', 'actually', 'cut', ...   \n3               False  ...  {'form': ['What', 'we', 'have', 'seen', 'over'...   \n4               False  ...  {'form': ['The', 'Prime', 'Minister', 'repeate...   \n...               ...  ...                                                ...   \n69965           False  ...  {'form': ['It', 'is', 'used', 'by', 'Channel',...   \n69966           False  ...  {'form': ['It', 'is', 'used', 'by', 'Channel',...   \n69967           False  ...  {'form': ['The', 'ASA', 'chair', 'is', 'appoin...   \n69968           False  ...  {'form': [('2', 2), '-', 'thirds', 'of', 'coun...   \n69969           False  ...  {'form': ['Latest', 'data', 'show', 'customer'...   \n\n                         NUMs num_index  num_as_str num_value  is_float-like  \\\n0          (12, (2015, 2015))        12        2015    2015.0          False   \n1                 (5, (1, 1))         5           1       1.0          False   \n2       (7, (200000, 200000))         7      200000  200000.0          False   \n3                 (7, (5, 5))         7           5       5.0          False   \n4      (24, (250000, 250000))        24      250000  250000.0          False   \n...                       ...       ...         ...       ...            ...   \n69965             (5, (4, 4))         5           4       4.0          False   \n69966             (8, (5, 5))         8           5       5.0          False   \n69967            (13, (4, 4))        13           4       4.0          False   \n69968             (0, (2, 2))         0           2       2.0          False   \n69969          (11, (70, 70))        11          70      70.0          False   \n\n      n_proper_digits  n_zeroes  n_decimals relative_error  \n0                 4.0       0.0         n/a       0.000496  \n1                 1.0       0.0         n/a       1.000000  \n2                 1.0       5.0         n/a       0.500000  \n3                 1.0       0.0         n/a       0.200000  \n4                 2.0       4.0         n/a       0.040000  \n...               ...       ...         ...            ...  \n69965             1.0       0.0         n/a       0.250000  \n69966             1.0       0.0         n/a       0.200000  \n69967             1.0       0.0         n/a       0.250000  \n69968             1.0       0.0         n/a       0.500000  \n69969             1.0       1.0         n/a       0.142857  \n\n[69484 rows x 21 columns]",
      "text/html": "<div>\n<style scoped>\n    .dataframe tbody tr th:only-of-type {\n        vertical-align: middle;\n    }\n\n    .dataframe tbody tr th {\n        vertical-align: top;\n    }\n\n    .dataframe thead th {\n        text-align: right;\n    }\n</style>\n<table border=\"1\" class=\"dataframe\">\n  <thead>\n    <tr style=\"text-align: right;\">\n      <th></th>\n      <th>sent_id</th>\n      <th>sentence</th>\n      <th>utterance_id</th>\n      <th>Speaker_party</th>\n      <th>Party_status</th>\n      <th>Speaker_name</th>\n      <th>is_mp</th>\n      <th>is_female</th>\n      <th>is_upper_house</th>\n      <th>is_chairperson</th>\n      <th>...</th>\n      <th>sentence_parsed_num_groups</th>\n      <th>NUMs</th>\n      <th>num_index</th>\n      <th>num_as_str</th>\n      <th>num_value</th>\n      <th>is_float-like</th>\n      <th>n_proper_digits</th>\n      <th>n_zeroes</th>\n      <th>n_decimals</th>\n      <th>relative_error</th>\n    </tr>\n  </thead>\n  <tbody>\n    <tr>\n      <th>0</th>\n      <td>2015-09-16-commons.seg1.2</td>\n      <td>{'form': ['What', 'assessment', 'he', 'has', '...</td>\n      <td>2015-09-16-commons.u1</td>\n      <td>LAB</td>\n      <td>Opposition</td>\n      <td>Clwyd, Ann</td>\n      <td>True</td>\n      <td>True</td>\n      <td>False</td>\n      <td>False</td>\n      <td>...</td>\n      <td>{'form': ['What', 'assessment', 'he', 'has', '...</td>\n      <td>(12, (2015, 2015))</td>\n      <td>12</td>\n      <td>2015</td>\n      <td>2015.0</td>\n      <td>False</td>\n      <td>4.0</td>\n      <td>0.0</td>\n      <td>n/a</td>\n      <td>0.000496</td>\n    </tr>\n    <tr>\n      <th>1</th>\n      <td>2015-09-16-commons.seg3.1</td>\n      <td>{'form': ['The', 'summer', 'Budget', 'was', 'a...</td>\n      <td>2015-09-16-commons.u2</td>\n      <td>CON</td>\n      <td>Opposition</td>\n      <td>Crabb, Stephen</td>\n      <td>True</td>\n      <td>False</td>\n      <td>False</td>\n      <td>False</td>\n      <td>...</td>\n      <td>{'form': ['The', 'summer', 'Budget', 'was', 'a...</td>\n      <td>(5, (1, 1))</td>\n      <td>5</td>\n      <td>1</td>\n      <td>1.0</td>\n      <td>False</td>\n      <td>1.0</td>\n      <td>0.0</td>\n      <td>n/a</td>\n      <td>1.000000</td>\n    </tr>\n    <tr>\n      <th>2</th>\n      <td>2015-09-16-commons.seg4.2</td>\n      <td>{'form': ['The', 'Budget', 'actually', 'cut', ...</td>\n      <td>2015-09-16-commons.u3</td>\n      <td>LAB</td>\n      <td>Opposition</td>\n      <td>Clwyd, Ann</td>\n      <td>True</td>\n      <td>True</td>\n      <td>False</td>\n      <td>False</td>\n      <td>...</td>\n      <td>{'form': ['The', 'Budget', 'actually', 'cut', ...</td>\n      <td>(7, (200000, 200000))</td>\n      <td>7</td>\n      <td>200000</td>\n      <td>200000.0</td>\n      <td>False</td>\n      <td>1.0</td>\n      <td>5.0</td>\n      <td>n/a</td>\n      <td>0.500000</td>\n    </tr>\n    <tr>\n      <th>3</th>\n      <td>2015-09-16-commons.seg7.2</td>\n      <td>{'form': ['What', 'we', 'have', 'seen', 'over'...</td>\n      <td>2015-09-16-commons.u6</td>\n      <td>CON</td>\n      <td>Opposition</td>\n      <td>Crabb, Stephen</td>\n      <td>True</td>\n      <td>False</td>\n      <td>False</td>\n      <td>False</td>\n      <td>...</td>\n      <td>{'form': ['What', 'we', 'have', 'seen', 'over'...</td>\n      <td>(7, (5, 5))</td>\n      <td>7</td>\n      <td>5</td>\n      <td>5.0</td>\n      <td>False</td>\n      <td>1.0</td>\n      <td>0.0</td>\n      <td>n/a</td>\n      <td>0.200000</td>\n    </tr>\n    <tr>\n      <th>4</th>\n      <td>2015-09-16-commons.seg8.1</td>\n      <td>{'form': ['The', 'Prime', 'Minister', 'repeate...</td>\n      <td>2015-09-16-commons.u7</td>\n      <td>LAB</td>\n      <td>Opposition</td>\n      <td>Griffith, Nia Rhiannon</td>\n      <td>True</td>\n      <td>True</td>\n      <td>False</td>\n      <td>False</td>\n      <td>...</td>\n      <td>{'form': ['The', 'Prime', 'Minister', 'repeate...</td>\n      <td>(24, (250000, 250000))</td>\n      <td>24</td>\n      <td>250000</td>\n      <td>250000.0</td>\n      <td>False</td>\n      <td>2.0</td>\n      <td>4.0</td>\n      <td>n/a</td>\n      <td>0.040000</td>\n    </tr>\n    <tr>\n      <th>...</th>\n      <td>...</td>\n      <td>...</td>\n      <td>...</td>\n      <td>...</td>\n      <td>...</td>\n      <td>...</td>\n      <td>...</td>\n      <td>...</td>\n      <td>...</td>\n      <td>...</td>\n      <td>...</td>\n      <td>...</td>\n      <td>...</td>\n      <td>...</td>\n      <td>...</td>\n      <td>...</td>\n      <td>...</td>\n      <td>...</td>\n      <td>...</td>\n      <td>...</td>\n      <td>...</td>\n    </tr>\n    <tr>\n      <th>69965</th>\n      <td>2015-10-29-lords.seg613.3</td>\n      <td>{'form': ['It', 'is', 'used', 'by', 'Channel',...</td>\n      <td>2015-10-29-lords.u146</td>\n      <td>CON</td>\n      <td>Opposition</td>\n      <td>Stopford, James</td>\n      <td>True</td>\n      <td>False</td>\n      <td>True</td>\n      <td>False</td>\n      <td>...</td>\n      <td>{'form': ['It', 'is', 'used', 'by', 'Channel',...</td>\n      <td>(5, (4, 4))</td>\n      <td>5</td>\n      <td>4</td>\n      <td>4.0</td>\n      <td>False</td>\n      <td>1.0</td>\n      <td>0.0</td>\n      <td>n/a</td>\n      <td>0.250000</td>\n    </tr>\n    <tr>\n      <th>69966</th>\n      <td>2015-10-29-lords.seg613.3</td>\n      <td>{'form': ['It', 'is', 'used', 'by', 'Channel',...</td>\n      <td>2015-10-29-lords.u146</td>\n      <td>CON</td>\n      <td>Opposition</td>\n      <td>Stopford, James</td>\n      <td>True</td>\n      <td>False</td>\n      <td>True</td>\n      <td>False</td>\n      <td>...</td>\n      <td>{'form': ['It', 'is', 'used', 'by', 'Channel',...</td>\n      <td>(8, (5, 5))</td>\n      <td>8</td>\n      <td>5</td>\n      <td>5.0</td>\n      <td>False</td>\n      <td>1.0</td>\n      <td>0.0</td>\n      <td>n/a</td>\n      <td>0.200000</td>\n    </tr>\n    <tr>\n      <th>69967</th>\n      <td>2015-10-29-lords.seg614.3</td>\n      <td>{'form': ['The', 'ASA', 'chair', 'is', 'appoin...</td>\n      <td>2015-10-29-lords.u146</td>\n      <td>CON</td>\n      <td>Opposition</td>\n      <td>Stopford, James</td>\n      <td>True</td>\n      <td>False</td>\n      <td>True</td>\n      <td>False</td>\n      <td>...</td>\n      <td>{'form': ['The', 'ASA', 'chair', 'is', 'appoin...</td>\n      <td>(13, (4, 4))</td>\n      <td>13</td>\n      <td>4</td>\n      <td>4.0</td>\n      <td>False</td>\n      <td>1.0</td>\n      <td>0.0</td>\n      <td>n/a</td>\n      <td>0.250000</td>\n    </tr>\n    <tr>\n      <th>69968</th>\n      <td>2015-10-29-lords.seg614.4</td>\n      <td>{'form': ['Two', '-', 'thirds', 'of', 'council...</td>\n      <td>2015-10-29-lords.u146</td>\n      <td>CON</td>\n      <td>Opposition</td>\n      <td>Stopford, James</td>\n      <td>True</td>\n      <td>False</td>\n      <td>True</td>\n      <td>False</td>\n      <td>...</td>\n      <td>{'form': [('2', 2), '-', 'thirds', 'of', 'coun...</td>\n      <td>(0, (2, 2))</td>\n      <td>0</td>\n      <td>2</td>\n      <td>2.0</td>\n      <td>False</td>\n      <td>1.0</td>\n      <td>0.0</td>\n      <td>n/a</td>\n      <td>0.500000</td>\n    </tr>\n    <tr>\n      <th>69969</th>\n      <td>2015-10-29-lords.seg619.3</td>\n      <td>{'form': ['Latest', 'data', 'show', 'customer'...</td>\n      <td>2015-10-29-lords.u146</td>\n      <td>CON</td>\n      <td>Opposition</td>\n      <td>Stopford, James</td>\n      <td>True</td>\n      <td>False</td>\n      <td>True</td>\n      <td>False</td>\n      <td>...</td>\n      <td>{'form': ['Latest', 'data', 'show', 'customer'...</td>\n      <td>(11, (70, 70))</td>\n      <td>11</td>\n      <td>70</td>\n      <td>70.0</td>\n      <td>False</td>\n      <td>1.0</td>\n      <td>1.0</td>\n      <td>n/a</td>\n      <td>0.142857</td>\n    </tr>\n  </tbody>\n</table>\n<p>69484 rows × 21 columns</p>\n</div>"
     },
     "execution_count": 9,
     "metadata": {},
     "output_type": "execute_result"
    }
   ],
   "source": [
    "df"
   ],
   "metadata": {
    "collapsed": false
   }
  },
  {
   "cell_type": "markdown",
   "source": [
    "## Statistics"
   ],
   "metadata": {
    "collapsed": false
   }
  },
  {
   "cell_type": "code",
   "execution_count": null,
   "outputs": [],
   "source": [
    "dfs = {'float_likes_only_df': df[df['is_float-like']],\n",
    "       'int_likes_only_df': df[df['is_float-like'] == False]\n",
    "       }\n",
    "\n",
    "binary_independent_variables = {'is_upper_house': ('house', 'lower_house', 'upper_house'),\n",
    "                    'is_chairperson': ('speaker_role', 'regular', 'chairperson'),\n",
    "                    'is_mp': ('speaker_type', 'notMP', 'MP'),\n",
    "                    'is_female': ('gender', 'male', 'female')\n",
    "                    }\n",
    "                    # column_name, variable_name, value1 (False), value2 (True)\n",
    "# TODO: Party_status! -> dropna??!!!!!!!!!!!!!!!!!!!!!!\n",
    "\n",
    "\n",
    "dependent_variables = ['num_value', 'n_proper_digits', 'n_zeroes', 'relative_error']\n",
    "max_dv_name_len = max((len(_dv) for _dv in dependent_variables))"
   ],
   "metadata": {
    "collapsed": false
   }
  },
  {
   "cell_type": "markdown",
   "source": [
    "### Binary Independent Variables"
   ],
   "metadata": {
    "collapsed": false
   }
  },
  {
   "cell_type": "code",
   "execution_count": null,
   "outputs": [],
   "source": [
    "for biv in binary_independent_variables.keys():\n",
    "    print(\"=\"*20,\"\\n\",biv,\"\\n\",\"-\"*18)\n",
    "    print(df[biv].value_counts())"
   ],
   "metadata": {
    "collapsed": false
   }
  },
  {
   "cell_type": "code",
   "execution_count": null,
   "outputs": [],
   "source": [
    "for df_name, _df in dfs.items():\n",
    "    print(f\"{'='*len(df_name)}\\n{df_name}\\n{'='*len(df_name)}\")\n",
    "\n",
    "    for biv in binary_independent_variables.keys():\n",
    "        print(f\"{'-'*len(biv)}\\n{biv}\\n{'-'*len(biv)}\")\n",
    "\n",
    "        # mannwhitneyu can only be calculated for two samples. sometimes, only one sample exists\n",
    "        # (e.g. if all speakers are MPs --> _df[_df['is_mp'] == False] is empty)\n",
    "        if len(_df[_df[biv] == True][dv]) != 0 and len(_df[_df[biv] == False][dv]) != 0:\n",
    "\n",
    "            for dv in dependent_variables:\n",
    "                mannwhitneyu_result = st.mannwhitneyu(_df[_df[biv] == True][dv], _df[_df[biv] == False][dv])\n",
    "                print(f\"{dv.ljust(max_dv_name_len)}: {mannwhitneyu_result}\")\n",
    "\n",
    "                pointbiserial_result = st.pointbiserialr(_df[biv], _df[dv])\n",
    "                print(f\"{dv.ljust(max_dv_name_len)}: {pointbiserial_result}\")\n",
    "\n",
    "                print(\"\")\n",
    "        else:\n",
    "            print(\"binary independent variable only takes on one value --> 'unary' independent variable\")"
   ],
   "metadata": {
    "collapsed": false
   }
  },
  {
   "cell_type": "markdown",
   "source": [
    "### Semi-Binary Independent Variable 'Party_status'"
   ],
   "metadata": {
    "collapsed": false
   }
  },
  {
   "cell_type": "markdown",
   "source": [
    "## Plots"
   ],
   "metadata": {
    "collapsed": false
   }
  },
  {
   "cell_type": "markdown",
   "source": [
    "### Histograms"
   ],
   "metadata": {
    "collapsed": false
   }
  },
  {
   "cell_type": "code",
   "execution_count": null,
   "outputs": [],
   "source": [
    "for df_name, _df in dfs.items():\n",
    "    print(f\"{'='*len(df_name)}\\n{df_name}\\n{'='*len(df_name)}\")\n",
    "    for dv in dependent_variables:\n",
    "\n",
    "        plt.title(\"complete data\")\n",
    "\n",
    "        if dv == 'num_value':\n",
    "            plt.xscale('log')\n",
    "            bins = [10**(i) for i in range(15)]\n",
    "        else:\n",
    "            bins = range(15)\n",
    "\n",
    "        plt.xlabel(dv)\n",
    "\n",
    "        plt.hist(_df[dv], bins=bins)\n",
    "\n",
    "        plt.show()"
   ],
   "metadata": {
    "collapsed": false
   }
  },
  {
   "cell_type": "code",
   "execution_count": null,
   "outputs": [],
   "source": [
    "for df_name, _df in dfs.items():\n",
    "    print(f\"{'='*len(df_name)}\\n{df_name}\\n{'='*len(df_name)}\")\n",
    "\n",
    "    for biv_key, (biv_name, biv_false_value, biv_true_value) in binary_independent_variables.items():\n",
    "\n",
    "        for biv_value, biv_value_bool in ((biv_false_value, False), (biv_true_value, True)):\n",
    "\n",
    "            for dv in dependent_variables:\n",
    "\n",
    "                plt.title(f\"{biv_name}: {biv_value}\")\n",
    "\n",
    "                if dv == 'num_value':\n",
    "                    plt.xscale('log')\n",
    "                    bins = [5**i for i in range(30)]\n",
    "                else:\n",
    "                    bins = range(15)\n",
    "\n",
    "                plt.xlabel(dv)\n",
    "\n",
    "                plt.hist(_df[_df[biv_key] == biv_value_bool][dv], bins=bins)\n",
    "\n",
    "                plt.show()"
   ],
   "metadata": {
    "collapsed": false
   }
  },
  {
   "cell_type": "markdown",
   "source": [
    "### Scatterplots"
   ],
   "metadata": {
    "collapsed": false
   }
  },
  {
   "cell_type": "code",
   "execution_count": null,
   "outputs": [],
   "source": [
    "for df_name, _df in dfs.values():\n",
    "    print(df_name)\n",
    "    for column_name, ind_variable, value_1, value_2 in col_indvar_v1_v2:\n",
    "        # TODO: ('Party_status', 'party_status', '?', '??'),\n",
    "        data = _df.copy()\n",
    "        data[ind_variable] = np.choose(data[column_name], [value_1, value_2])\n",
    "        sns.scatterplot(x='num_value', y='n_zeroes', hue=ind_variable, data=data)\n",
    "        plt.xscale('log')\n",
    "        plt.show()"
   ],
   "metadata": {
    "collapsed": false
   }
  },
  {
   "cell_type": "markdown",
   "source": [
    "## Concordance"
   ],
   "metadata": {
    "collapsed": false
   }
  },
  {
   "cell_type": "code",
   "execution_count": null,
   "outputs": [],
   "source": [
    "df['num_ancestors'] = df.swifter.apply(concordance_ancestors_on_row, axis=1)"
   ],
   "metadata": {
    "collapsed": false
   }
  },
  {
   "cell_type": "code",
   "execution_count": null,
   "outputs": [],
   "source": [
    "df['num_ancestor_set'] = df['num_ancestors'].swifter.apply(lambda cell: try_apply(ancestry_set, cell))"
   ],
   "metadata": {
    "collapsed": false
   }
  },
  {
   "cell_type": "code",
   "execution_count": null,
   "outputs": [],
   "source": [
    "if saving:\n",
    "    df.to_csv(f\"C:/Users/karla/Desktop/Zula_Data_all_in_one/{save_name}+group+parsed+separated+exploded+roundedness+ancestors.csv\")"
   ],
   "metadata": {
    "collapsed": false
   }
  },
  {
   "cell_type": "code",
   "execution_count": null,
   "outputs": [],
   "source": [
    "df['num_descendants'] = df.swifter.apply(concordance_descendants_on_row, axis=1)"
   ],
   "metadata": {
    "collapsed": false
   }
  },
  {
   "cell_type": "code",
   "execution_count": null,
   "outputs": [],
   "source": [
    "df['num_descendant_set'] = df['num_descendants'].swifter.apply(ancestry_set)"
   ],
   "metadata": {
    "collapsed": false
   }
  },
  {
   "cell_type": "code",
   "execution_count": null,
   "outputs": [],
   "source": [
    "if saving:\n",
    "    df.to_csv(f\"C:/Users/karla/Desktop/Zula_Data_all_in_one/{save_name}+group+parsed+separated+exploded+roundedness+ancestors+descendants.csv\")"
   ],
   "metadata": {
    "collapsed": false
   }
  },
  {
   "cell_type": "code",
   "execution_count": null,
   "outputs": [],
   "source": [
    "value_count_num_descendant_set = df['num_descendant_set'].value_counts()\n",
    "value_count_num_descendant_set"
   ],
   "metadata": {
    "collapsed": false
   }
  },
  {
   "cell_type": "code",
   "execution_count": null,
   "outputs": [],
   "source": [
    "value_count_num_ancestor_set = df['num_ancestor_set'].value_counts()\n",
    "value_count_num_ancestor_set"
   ],
   "metadata": {
    "collapsed": false
   }
  },
  {
   "cell_type": "code",
   "execution_count": null,
   "outputs": [],
   "source": [
    "float_df = df[df['float-like']]"
   ],
   "metadata": {
    "collapsed": false
   }
  },
  {
   "cell_type": "code",
   "execution_count": null,
   "outputs": [],
   "source": [
    "int_df = df[df['float-like']==False]"
   ],
   "metadata": {
    "collapsed": false
   }
  },
  {
   "cell_type": "code",
   "execution_count": null,
   "outputs": [],
   "source": [
    "data = int_df.copy()\n",
    "sns.scatterplot(x='num_value', y='n_zeroes', hue='Party_status', data=data)\n",
    "plt.xscale('log')\n",
    "plt.show()"
   ],
   "metadata": {
    "collapsed": false
   }
  },
  {
   "cell_type": "code",
   "execution_count": null,
   "outputs": [],
   "source": [],
   "metadata": {
    "collapsed": false
   }
  },
  {
   "cell_type": "code",
   "execution_count": null,
   "outputs": [],
   "source": [],
   "metadata": {
    "collapsed": false
   }
  },
  {
   "cell_type": "code",
   "execution_count": null,
   "outputs": [],
   "source": [],
   "metadata": {
    "collapsed": false
   }
  }
 ],
 "metadata": {
  "kernelspec": {
   "name": "conda-env-Linguistics-py",
   "language": "python",
   "display_name": "Python [conda env:Linguistics] *"
  },
  "language_info": {
   "codemirror_mode": {
    "name": "ipython",
    "version": 2
   },
   "file_extension": ".py",
   "mimetype": "text/x-python",
   "name": "python",
   "nbconvert_exporter": "python",
   "pygments_lexer": "ipython2",
   "version": "2.7.6"
  }
 },
 "nbformat": 4,
 "nbformat_minor": 0
}
