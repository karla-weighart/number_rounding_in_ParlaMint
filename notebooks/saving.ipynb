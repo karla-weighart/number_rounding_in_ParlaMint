{
 "cells": [
  {
   "cell_type": "markdown",
   "source": [
    "# Imports"
   ],
   "metadata": {
    "collapsed": false
   }
  },
  {
   "cell_type": "code",
   "execution_count": null,
   "metadata": {
    "collapsed": true
   },
   "outputs": [],
   "source": [
    "import numpy as np\n",
    "%cd ..\n",
    "# I need this to access modules from the main folder. Do not move this comment up into the same line\n",
    "\n",
    "import matplotlib.pyplot as plt\n",
    "from matplotlib.ticker import PercentFormatter\n",
    "import seaborn as sns\n",
    "sns.set_theme(style=\"white\")\n",
    "\n",
    "\n",
    "from generate_dataframe import generate_sentences_and_meta_df_from_multiple_files\n",
    "from load_saved_dataframe import load_saved_df\n",
    "from numerals import group_nums, parse_num_groups, num_list, count_digits_and_zeros, find_uncertainty, is_about_money, has_approximator, is_time_of_day\n",
    "from helper_methods import try_apply, drop_na_with_count"
   ]
  },
  {
   "cell_type": "markdown",
   "source": [
    "# Set Parameters"
   ],
   "metadata": {
    "collapsed": false
   }
  },
  {
   "cell_type": "code",
   "execution_count": null,
   "outputs": [],
   "source": [
    "# loading\n",
    "load_path = None # \"C:/Users/karla/Desktop/Zula_Data_all_in_one/{save_name}.csv\"\n",
    "\n",
    "# generating\n",
    "number_of_files = None # set to None to use all 1795 files, set to n<1795 to use n randomly chosen files\n",
    "random_seed = 1341995\n",
    "\n",
    "# dropping undesired data\n",
    "int_lower_threshold = 2500 # set to None to keep all ints, set to n to drop all ints with absolute value < n\n",
    "drop_time_of_day: bool = True\n",
    "\n",
    "# saving?\n",
    "saving: bool = True\n",
    "save_name = \"2023-03-15_complete\"\n",
    "\n",
    "figures_save_path = \"C:/Users/karla/My Drive/Uni/LMU/Englisch/Zula/figures\"\n",
    "validity_save_path = \"C:/Users/karla/My Drive/Uni/LMU/Englisch/Zula/validity\"\n",
    "qualitative_analysis_save_path = \"C:/Users/karla/My Drive/Uni/LMU/Englisch/Zula/qualitative_analysis\""
   ],
   "metadata": {
    "collapsed": false
   }
  },
  {
   "cell_type": "markdown",
   "source": [
    "# Load / Generate"
   ],
   "metadata": {
    "collapsed": false
   }
  },
  {
   "cell_type": "code",
   "execution_count": null,
   "outputs": [],
   "source": [
    "if load_path:\n",
    "    df = load_saved_df(load_path)\n",
    "else:\n",
    "    df = generate_sentences_and_meta_df_from_multiple_files(number_of_files=number_of_files, random_seed=random_seed)\n",
    "    if saving:\n",
    "        df.to_csv(f\"C:/Users/karla/Desktop/Zula_Data_all_in_one/{save_name}.csv\")\n",
    "complete_df = df"
   ],
   "metadata": {
    "collapsed": false
   }
  },
  {
   "cell_type": "code",
   "execution_count": null,
   "outputs": [],
   "source": [
    "# df=complete_df"
   ],
   "metadata": {
    "collapsed": false
   }
  },
  {
   "cell_type": "code",
   "execution_count": null,
   "outputs": [],
   "source": [
    "n_sentences = df.shape[0]\n",
    "print(f\"total # of sentences: {n_sentences}\")\n",
    "\n",
    "drops_per_func_in_sentences = {}\n",
    "\n",
    "df, drops_per_func_in_sentences['missing values in dataset'] = drop_na_with_count(df)\n",
    "print(f\"#missing values in dataset: {drops_per_func_in_sentences['missing values in dataset']}\")"
   ],
   "metadata": {
    "collapsed": false
   }
  },
  {
   "cell_type": "markdown",
   "source": [
    "# Numerals"
   ],
   "metadata": {
    "collapsed": false
   }
  },
  {
   "cell_type": "code",
   "execution_count": null,
   "outputs": [],
   "source": [
    "func_arg_res = [(group_nums, 'sentence', 'sentence_grouped_nums'),\n",
    "             (parse_num_groups, 'sentence_grouped_nums', 'sentence_parsed_num_groups'),\n",
    "             (num_list, 'sentence_parsed_num_groups', 'NUMs')]\n",
    "            # function, argument_column, result_column\n",
    "\n",
    "for func, arg_col, res_col in func_arg_res:\n",
    "    func_name = func.__name__\n",
    "    print(f\"Applying {func_name}\")\n",
    "    df[res_col] = df[arg_col].swifter.apply((lambda c: try_apply(func, c)))\n",
    "    df, drops_per_func_in_sentences[f\"{func_name} failed\"] = drop_na_with_count(df)"
   ],
   "metadata": {
    "collapsed": false
   }
  },
  {
   "cell_type": "code",
   "execution_count": null,
   "outputs": [],
   "source": [
    "df = df.explode('NUMs').reset_index(drop=True)\n",
    "df['num_index'], placeholder = zip(*df['NUMs'])\n",
    "(df['num_as_str'], df['num_value']) = zip(*placeholder)\n",
    "\n",
    "n_numbers = df.shape[0]\n",
    "print(f\"#numbers: {n_numbers}\")\n",
    "\n",
    "drops_per_func_in_numbers = {}"
   ],
   "metadata": {
    "collapsed": false
   }
  },
  {
   "cell_type": "code",
   "execution_count": null,
   "outputs": [],
   "source": [
    "df['is_float-like'], df['n_proper_digits'], df['n_zeros'], df['n_decimals'] = zip(*df['num_as_str'].swifter.apply(lambda cell: try_apply(count_digits_and_zeros, cell)))\n",
    "\n",
    "df, drops_per_func_in_numbers['find_uncertainty failed'] = drop_na_with_count(df)\n",
    "\n",
    "print(f\"#numbers_dropped_by_find_roundedness: {drops_per_func_in_numbers['find_roundedness failed']}\")"
   ],
   "metadata": {
    "collapsed": false
   }
  },
  {
   "cell_type": "code",
   "execution_count": null,
   "outputs": [],
   "source": [
    "# we only want to keep those ints that have absolute values of 2500 or more and all float-likes\n",
    "# therefore, get rid of all integers with absolute value of less than 2500\n",
    "# keep track of number of dropped numbers\n",
    "# save sample of dropped and not-dropped numbers to check validity of pipeline\n",
    "if int_lower_threshold is not None:\n",
    "    before_size = df.shape[0]\n",
    "\n",
    "    drop_mask = ((df['is_float-like'] == False) & (abs(df['num_value']) < int_lower_threshold))\n",
    "\n",
    "    # save sample of numbers that will be dropped\n",
    "    df[drop_mask].sample(20, random_state=random_seed, axis=0).to_csv(f\"{validity_save_path}/ints_below_threshold.csv\")\n",
    "\n",
    "    df = df.drop(df[drop_mask].index).reset_index(drop=True)\n",
    "\n",
    "    # save sample of numbers that have not been dropped\n",
    "    df.sample(20, random_state=random_seed, axis=0).to_csv(f\"{validity_save_path}/ints_above_threshold_and_float-likes.csv\")\n",
    "\n",
    "    after_size = df.shape[0]\n",
    "    n_drops_int_below_threshold = before_size-after_size\n",
    "#    print(f\"dropped {n_drops_int_below_threshold} integers with absolute value of less than 2500\")\n",
    "    drops_per_func_in_numbers[f'absolute value <{int_lower_threshold}'] = n_drops_int_below_threshold"
   ],
   "metadata": {
    "collapsed": false
   }
  },
  {
   "cell_type": "code",
   "execution_count": null,
   "outputs": [],
   "source": [
    "df['absolute_uncertainty'], df['relative_uncertainty'] =zip(*df.swifter.apply(lambda row: find_uncertainty(row), axis=1))"
   ],
   "metadata": {
    "collapsed": false
   }
  },
  {
   "cell_type": "code",
   "execution_count": null,
   "outputs": [],
   "source": [
    "df['is_time_of_day'] = df.apply(lambda row: is_time_of_day(row), axis=1)"
   ],
   "metadata": {
    "collapsed": false
   }
  },
  {
   "cell_type": "code",
   "execution_count": null,
   "outputs": [],
   "source": [
    "# now drop all numbers indicating the time of day, e.g. \"10.30 pm\"\n",
    "# keep track of number of dropped numbers\n",
    "# save sample of dropped and not-dropped numbers to check validity of pipeline\n",
    "if drop_time_of_day:\n",
    "    before_size = df.shape[0]\n",
    "\n",
    "    drop_mask = df['is_time_of_day']\n",
    "\n",
    "    # save sample of numbers that have not been dropped\n",
    "    df[drop_mask].sample(20, random_state=random_seed, axis=0).to_csv(f\"{validity_save_path}/times_of_day.csv\")\n",
    "\n",
    "    df = df.drop(df[drop_mask].index).reset_index(drop=True)\n",
    "\n",
    "    # save sample of numbers that have not been dropped\n",
    "    df.sample(20, random_state=random_seed, axis=0).to_csv(f\"{validity_save_path}/not_times_of_day.csv\")\n",
    "\n",
    "    after_size = df.shape[0]\n",
    "    n_drops_time_of_day = before_size-after_size\n",
    "#    print(f\"dropped {n_drops_time_of_day} numbers indicating the time of day, e.g. '10.30 pm'\")\n",
    "    drops_per_func_in_numbers['time of day'] = n_drops_time_of_day"
   ],
   "metadata": {
    "collapsed": false
   }
  },
  {
   "cell_type": "code",
   "execution_count": null,
   "outputs": [],
   "source": [
    "df['is_about_money'] = df.apply(lambda row: is_about_money(row), axis=1)\n",
    "\n",
    "# save samples\n",
    "df[df['is_about_money']].sample(20, random_state=random_seed, axis=0).to_csv(f\"{validity_save_path}/is_about_money\")\n",
    "df[df['is_about_money'] == False].sample(20, random_state=random_seed, axis=0).to_csv(f\"{validity_save_path}/is_not_about_money\")\n",
    "\n",
    "\n",
    "df['has_approximator'], df['approximators'] = zip(*df.apply(lambda row: has_approximator(row), axis=1))\n",
    "\n",
    "# save samples\n",
    "df[df['has_approximator']].sample(20, random_state=random_seed, axis=0).to_csv(f\"{validity_save_path}/with_approximator\")\n",
    "df[df['has_approximator'] == False].sample(20, random_state=random_seed, axis=0).to_csv(f\"{validity_save_path}/without_approximator\")"
   ],
   "metadata": {
    "collapsed": false
   }
  },
  {
   "cell_type": "markdown",
   "source": [
    "# Drops in Loading and Parsing Pipeline"
   ],
   "metadata": {
    "collapsed": false
   }
  },
  {
   "cell_type": "markdown",
   "source": [
    "## Dropped Sentences"
   ],
   "metadata": {
    "collapsed": false
   }
  },
  {
   "cell_type": "code",
   "execution_count": null,
   "outputs": [],
   "source": [
    "drop_sentences = list(drops_per_func_in_sentences.values())\n",
    "drop_sentences.insert(0, n_sentences - sum(drop_sentences))\n",
    "drop_sentences_labels = list(drops_per_func_in_sentences.keys())\n",
    "drop_sentences_labels.insert(0, 'intact sentences')\n",
    "assert drop_sentences[-1] == 0, 'num_list seems to have failed somewhere'\n",
    "drop_sentences.pop()\n",
    "drop_sentences_labels.pop()\n",
    "\n",
    "# colors = green, light gray, red, violet #, orange\n",
    "plt.pie(drop_sentences, startangle=90, counterclock=False, wedgeprops = {'linewidth': 0}, colors=['#77dd76', '#a4a4a4', '#ff4b4b', '#971d78']) #, '#ff8732'])\n",
    "plt.legend(drop_sentences_labels, loc='center left', bbox_to_anchor=(1, 0.5))\n",
    "plt.savefig(f\"{figures_save_path}/piecharts/dropped_sentences.png\", dpi=600, bbox_inches='tight')\n",
    "plt.show()\n",
    "plt.close()\n",
    "\n",
    "print(\"drop_reason\".rjust(25)+\" | #sentences_dropped\"+\"\\n\"+(\"=\"*46))\n",
    "#for func_name, drops in drops_per_func_in_sentences.items():\n",
    "#    print(func_name.rjust(25)+f\" | {drops}\")\n",
    "\n",
    "for status, count in zip(drop_sentences_labels, drop_sentences):\n",
    "    print(status.rjust(25)+\" | \"+str(count).ljust(10)+\" | \"+str(100*count/n_sentences)+\"%\")"
   ],
   "metadata": {
    "collapsed": false
   }
  },
  {
   "cell_type": "markdown",
   "source": [
    "## Dropped Numbers"
   ],
   "metadata": {
    "collapsed": false
   }
  },
  {
   "cell_type": "code",
   "execution_count": null,
   "outputs": [],
   "source": [
    "drop_numbers = list(drops_per_func_in_numbers.values())\n",
    "drop_numbers.insert(0, n_numbers - sum(drop_numbers))\n",
    "drop_numbers_labels = list(drops_per_func_in_numbers.keys())\n",
    "drop_numbers_labels.insert(0, 'usable numbers')\n",
    "\n",
    "# colors = green, red, light gray, dark gray\n",
    "plt.pie(drop_numbers, startangle=90, counterclock=False, wedgeprops = {'linewidth': 0}, colors=['#77dd76', '#ff4b4b', '#a4a4a4', '#5c5c5c']) # TODO check if this works\n",
    "plt.legend(drop_numbers_labels, loc='center left', bbox_to_anchor=(1, 0.5))\n",
    "plt.savefig(f\"{figures_save_path}/piecharts/dropped_numbers.png\", dpi=600, bbox_inches='tight')\n",
    "plt.show()\n",
    "plt.close()\n",
    "\n",
    "print(f\"#numbers in total: {n_numbers}\")\n",
    "print(\"drop_reason\".rjust(25)+\" | #sentences_dropped\"+\"\\n\"+(\"=\"*46))\n",
    "for status, count in zip(drop_numbers_labels, drop_numbers):\n",
    "    print(status.rjust(25)+\" | \"+str(count).ljust(10)+\" | \"+str(100*count/n_numbers)+\"%\")"
   ],
   "metadata": {
    "collapsed": false
   }
  },
  {
   "cell_type": "markdown",
   "source": [
    "# Sampling Dataset to Check Validity of Preprocessing and Analysis Pipeline"
   ],
   "metadata": {
    "collapsed": false
   }
  },
  {
   "cell_type": "code",
   "execution_count": null,
   "outputs": [],
   "source": [
    "sample_df = df.sample(n=100, random_state=random_seed, axis=0)\n",
    "sample_df['num_as_str'] = sample_df['num_as_str'].apply(lambda s: \"'\"+s)\n",
    "for full_sentence in ['sentence', 'sentence_grouped_nums', 'sentence_parsed_num_groups']:\n",
    "    sample_df[full_sentence] = sample_df[full_sentence].apply(lambda s: s['form'])\n",
    "sample_df.to_csv(f\"{qualitative_analysis_save_path}/sample_for_limitations_section.csv\")"
   ],
   "metadata": {
    "collapsed": false
   }
  },
  {
   "cell_type": "markdown",
   "source": [
    "# Plots"
   ],
   "metadata": {
    "collapsed": false
   }
  },
  {
   "cell_type": "code",
   "execution_count": null,
   "outputs": [],
   "source": [
    "dfs = {'decimal numbers': df[df['is_float-like'] == True],\n",
    "       'integers': df[df['is_float-like'] == False]\n",
    "       }\n",
    "\n",
    "binary_independent_variables = {'is_upper_house': ('house', 'lower house', 'upper house'),\n",
    "                    'is_chairperson': ('speaker role', 'regular', 'chairperson'),\n",
    "                    'is_mp': ('speaker type', 'not MP', 'MP'),\n",
    "                    'is_female': ('gender', 'male', 'female'),\n",
    "                    'is_coalition': ('party status', 'opposition', 'coalition'),\n",
    "                    'is_about_money': ('counted entity', 'not money', 'money'),\n",
    "                    'has_approximator': ('has an approximator', 'with', 'without')\n",
    "                    }\n",
    "                    # column_name, variable_name, value0 (False), value1 (True)\n",
    "\n",
    "dependent_variables = {'num_value': 'number value',\n",
    "                       # 'n_proper_digits': 'number of proper digits',\n",
    "                       # 'n_zeros': 'number of zeros',\n",
    "                       # 'absolute_uncertainty': 'absolute uncertainty',\n",
    "                       'relative_uncertainty': 'relative uncertainty'\n",
    "                       }\n",
    "\n",
    "max_dv_name_len = max((len(_dv) for _dv in dependent_variables))"
   ],
   "metadata": {
    "collapsed": false
   }
  },
  {
   "cell_type": "markdown",
   "source": [
    "## Scatterplots"
   ],
   "metadata": {
    "collapsed": false
   }
  },
  {
   "cell_type": "code",
   "execution_count": null,
   "outputs": [],
   "source": [
    "plt.style.use('seaborn-deep')\n",
    "\n",
    "for df_name, _df in dfs.items():\n",
    "\n",
    "    for biv_key, (biv_name, biv_false_value, biv_true_value) in binary_independent_variables.items():\n",
    "\n",
    "        data = _df.copy()\n",
    "        data[biv_name] = _df[biv_key].replace({False: biv_false_value, True: biv_true_value, 'n/a': 'other'}, inplace=False)\n",
    "\n",
    "        x_axis = 'num_value'\n",
    "        y_axis = 'relative_uncertainty'\n",
    "\n",
    "        sns.scatterplot(x=x_axis, y=y_axis, hue=biv_name, data=data, style=biv_name) #alpha=0.2,\n",
    "\n",
    "        plt.title(f\"distribution of {df_name} by {biv_name}\")\n",
    "        plt.xlabel('number value')\n",
    "        plt.ylabel('relative uncertainty')\n",
    "        plt.legend(loc='upper right')\n",
    "\n",
    "        plt.xscale('log')\n",
    "        plt.savefig(f\"{figures_save_path}/scatterplots/{df_name}--{biv_name}--x-{x_axis}--y-{y_axis}.png\",\n",
    "                    dpi=300)\n",
    "        plt.close()"
   ],
   "metadata": {
    "collapsed": false
   }
  },
  {
   "cell_type": "markdown",
   "source": [
    "## Histograms"
   ],
   "metadata": {
    "collapsed": false
   }
  },
  {
   "cell_type": "code",
   "execution_count": null,
   "outputs": [],
   "source": [
    "# TODO: fix width of bars\n",
    "#  https://stackoverflow.com/questions/38234545/multiple-histograms-with-logarithmic-x-scale\n",
    "#  https://stackoverflow.com/questions/30551694/logarithmic-multi-sequenz-plot-with-equal-bar-widths\n",
    "#  or do step diagram instead\n",
    "#  also consider different y-axes to normalize https://stackoverflow.com/a/47750425/18420741\n",
    "# TODO: make sure max_number_value is part of diagram!\n",
    "# TODO: only unit fractions for relative_uncertainty\n",
    "\n",
    "plt.style.use('seaborn-deep')\n",
    "\n",
    "for df_name, _df in dfs.items():\n",
    "\n",
    "    for biv_key, (biv_name, biv_false_value, biv_true_value) in binary_independent_variables.items():\n",
    "\n",
    "        for dv, dv_name in dependent_variables.items():\n",
    "\n",
    "            distribution_biv_true = _df[_df[biv_key] == True][dv]\n",
    "            distribution_biv_false = _df[_df[biv_key] == False][dv]\n",
    "            distribution_biv_other = _df[(_df[biv_key] != True) & (_df[biv_key] != False)][dv]\n",
    "\n",
    "            if distribution_biv_other.shape[0] == 0:\n",
    "                distributions = [distribution_biv_true, distribution_biv_false]\n",
    "                labels = [biv_true_value, biv_false_value]\n",
    "            else:\n",
    "                distributions = [distribution_biv_true, distribution_biv_false, distribution_biv_other]\n",
    "                labels = [biv_true_value, biv_false_value, 'other']\n",
    "\n",
    "\n",
    "            for normed in (True, False):\n",
    "                if normed:\n",
    "                    plt.title(f\"{df_name} by {biv_name} - normalized\")\n",
    "                    save_path = f\"{figures_save_path}/histograms/{df_name}-{dv}-{biv_name}-normalized.png\"\n",
    "                    plt.ylabel(\"percentage\")\n",
    "                else:\n",
    "                    plt.title(f\"{df_name} by {biv_name}\")\n",
    "                    save_path = f\"{figures_save_path}/histograms/{df_name}-{dv}-{biv_name}-not_normalized.png\"\n",
    "                    plt.ylabel(\"count\")\n",
    "\n",
    "                plt.xlabel(dv_name)\n",
    "\n",
    "                if dv in {'num_value', 'absolute_uncertainty'}:\n",
    "                    plt.xscale('log')\n",
    "                    bins = [5**i for i in range(30)]\n",
    "                elif dv == 'relative_uncertainty':\n",
    "                    bins = [0.05*i for i in range(21)]\n",
    "                else:\n",
    "                    bins = range(15)\n",
    "\n",
    "                if normed:\n",
    "                    plt.hist(distributions, bins=bins, weights=[np.ones(len(dist)) / len(dist) for dist in distributions]) # labels=labels,\n",
    "                    plt.gca().yaxis.set_major_formatter(PercentFormatter(1))\n",
    "                else:\n",
    "                    plt.hist(distributions, bins=bins) #, label=labels) # , histtype='step')\n",
    "\n",
    "                plt.legend(title=biv_name, labels=labels,  loc='upper right')\n",
    "\n",
    "                plt.savefig(\n",
    "                    save_path,\n",
    "                    dpi=300,\n",
    "                    bbox_inches=\"tight\")\n",
    "                plt.close()"
   ],
   "metadata": {
    "collapsed": false
   }
  },
  {
   "cell_type": "markdown",
   "source": [
    "## Boxplots"
   ],
   "metadata": {
    "collapsed": false
   }
  },
  {
   "cell_type": "code",
   "execution_count": null,
   "outputs": [],
   "source": [
    "from plotting import compute_dataframe_grouping, BOX_PLOT_STEP, BOX_PLOT_WIDTH, CATEGORY_LABEL_POSITION, COLUMN_LABEL_MAPPING, FONT_SIZE_AXIS_LABEL, FONT_SIZE_TITLE, FONT_SIZE_X_TICK, GAP_BETWEEN_CATEGORIES, PLOT_DEFAULT_WIDTH"
   ],
   "metadata": {
    "collapsed": false
   }
  },
  {
   "cell_type": "markdown",
   "source": [
    "### Single Categories"
   ],
   "metadata": {
    "collapsed": false
   }
  },
  {
   "cell_type": "code",
   "execution_count": null,
   "outputs": [],
   "source": [
    "plt.style.use('seaborn-deep')\n",
    "\n",
    "for df_name, _df in dfs.items():\n",
    "\n",
    "    for dv, dv_name in dependent_variables.items():\n",
    "        plt.title(f\"distribution of {dv_name}\")\n",
    "\n",
    "        for biv_key, (biv_name, biv_false_value, biv_true_value) in binary_independent_variables.items():\n",
    "\n",
    "            combined_df = _df[dv].to_frame(name='total') #.rename(columns={dv: 'total'})\n",
    "\n",
    "            combined_df[biv_true_value] = _df[_df[biv_key] == True][dv]\n",
    "            combined_df[biv_false_value] = _df[_df[biv_key] == False][dv]\n",
    "\n",
    "            distribution_biv_other = _df[(_df[biv_key] != True) & (_df[biv_key] != False)][dv]\n",
    "            if distribution_biv_other.shape[0] != 0:\n",
    "                combined_df['other'] = distribution_biv_other\n",
    "\n",
    "            box_plot_x_positions, category_separator_x_positions = compute_dataframe_grouping(combined_df, binary_independent_variables)\n",
    "\n",
    "            figwidth = PLOT_DEFAULT_WIDTH + len(combined_df.columns) * BOX_PLOT_WIDTH\n",
    "\n",
    "            combined_df.plot(kind='box', rot=45, showfliers=False, positions=box_plot_x_positions, widths=0.5, figsize=(figwidth, 6), whis=(5,95))\n",
    "\n",
    "\n",
    "            plt.title(f\"{df_name} by {biv_name}\")\n",
    "            plt.ylabel(dv_name)\n",
    "\n",
    "            # Set font sizes\n",
    "            plt.gca().yaxis.label.set_fontsize(FONT_SIZE_AXIS_LABEL)\n",
    "            plt.gca().title.set_fontsize(FONT_SIZE_TITLE)\n",
    "            for x_tick_label in plt.gca().get_xticklabels():\n",
    "                x_tick_label.set_fontsize(FONT_SIZE_X_TICK)\n",
    "\n",
    "            # Plot separators between categories\n",
    "            for category_separator_x_position in category_separator_x_positions:\n",
    "                plt.axvline(category_separator_x_position, linestyle='--', color='darkgray')\n",
    "\n",
    "            # change y_axis ticks, so they don't say 1e6 at the top of the y_axis and coefficients on the ticks\n",
    "            # instead have it say 'million' if the value is in the millions\n",
    "            current_y_ticks = plt.gca().get_yticks()\n",
    "            if max(current_y_ticks) > 10 ** 6:\n",
    "                plt.gca().set_yticklabels(['{:.0f}M'.format(x/10**6)  for x in current_y_ticks])\n",
    "\n",
    "            plt.savefig(f\"{figures_save_path}/boxplots/{df_name}-{dv}-{biv_name}.png\",\n",
    "                        dpi=300,\n",
    "                        bbox_inches=\"tight\")\n",
    "\n",
    "# for saving with log y-scale activate the following lines:\n",
    "#            plt.yscale('log')\n",
    "\n",
    "#            plt.savefig(f\"{figures_save_path}/boxplots/{df_name}-{dv}-{biv_name}-log_scale.png\",\n",
    "#                        dpi=300,\n",
    "#                        bbox_inches=\"tight\")\n",
    "\n",
    "#            plt.show()\n",
    "            plt.close()"
   ],
   "metadata": {
    "collapsed": false
   }
  },
  {
   "cell_type": "markdown",
   "source": [
    " ### All-in-One with normal money"
   ],
   "metadata": {
    "collapsed": false
   }
  },
  {
   "cell_type": "code",
   "execution_count": null,
   "outputs": [],
   "source": [
    "plt.style.use('seaborn-deep')\n",
    "\n",
    "# TODO: group by category @Tobias\n",
    "\n",
    "for df_name, _df in dfs.items():\n",
    "\n",
    "    for dv, dv_name in dependent_variables.items():\n",
    "        combined_df = _df[dv].to_frame(name='total')\n",
    "\n",
    "        # Select only columns listed in binary_independent_variables\n",
    "        for biv_key, (biv_name, biv_false_value, biv_true_value) in binary_independent_variables.items():\n",
    "\n",
    "            combined_df[biv_true_value] = _df[_df[biv_key] == True][dv]\n",
    "            combined_df[biv_false_value] = _df[_df[biv_key] == False][dv]\n",
    "\n",
    "            distribution_biv_other = _df[(_df[biv_key] != True) & (_df[biv_key] != False)][dv]\n",
    "            if distribution_biv_other.shape[0] != 0:\n",
    "                combined_df[f\"{biv_name}: other\"] = distribution_biv_other\n",
    "\n",
    "        box_plot_x_positions, category_separator_x_positions = compute_dataframe_grouping(combined_df, binary_independent_variables)\n",
    "        column_names = combined_df.columns\n",
    "        column_names = [COLUMN_LABEL_MAPPING[col_name]\n",
    "                        if col_name in COLUMN_LABEL_MAPPING\n",
    "                        else col_name\n",
    "                        for col_name in column_names]\n",
    "        combined_df.columns = column_names\n",
    "\n",
    "        combined_df.plot(kind='box', rot=45, figsize=(20, 4.8), showfliers=False, positions=box_plot_x_positions, whis=(5,95))\n",
    "\n",
    "        # Plot separators between categories\n",
    "        for category_separator_x_position in category_separator_x_positions:\n",
    "            plt.axvline(category_separator_x_position, linestyle='--', color='darkgray')\n",
    "\n",
    "        plt.title(f\"{df_name}\")\n",
    "        plt.ylabel(dv_name)\n",
    "\n",
    "        # Set font sizes\n",
    "        plt.gca().yaxis.label.set_fontsize(FONT_SIZE_AXIS_LABEL)\n",
    "        plt.gca().title.set_fontsize(FONT_SIZE_TITLE)\n",
    "        for x_tick_label in plt.gca().get_xticklabels():\n",
    "            x_tick_label.set_fontsize(FONT_SIZE_X_TICK)\n",
    "\n",
    "\n",
    "        # change y_axis ticks, so they don't say 1e6 at the top of the y_axis and coefficients on the ticks\n",
    "        # instead have it say 'million' if the value is in the millions\n",
    "        current_y_ticks = plt.gca().get_yticks()\n",
    "        if max(current_y_ticks) > 10 ** 6:\n",
    "            plt.gca().set_yticklabels(['{:.0f}M'.format(x/10**6)  for x in current_y_ticks])\n",
    "\n",
    "        # Add category labels centered below the respective column names\n",
    "        for i_category, (category, col_names) in enumerate(binary_independent_variables.items()):\n",
    "            if i_category < len(binary_independent_variables.keys()) - 1:\n",
    "                # Position of category label is computed by taking the middle positions of the\n",
    "                # left and right category separator line\n",
    "                category_label_x_position = (category_separator_x_positions[i_category] + category_separator_x_positions[i_category + 1]) / 2\n",
    "            else:\n",
    "                # Special case for the last category label since we don't have a separator line to the right of that\n",
    "                category_label_x_position = category_separator_x_positions[i_category] + GAP_BETWEEN_CATEGORIES / 2 + (len(col_names) - 1) * BOX_PLOT_STEP / 2\n",
    "\n",
    "            category_label_y_position = -CATEGORY_LABEL_POSITION* current_y_ticks[-1]\n",
    "            category_label = col_names[0]\n",
    "            plt.text(category_label_x_position, category_label_y_position, col_names[0], horizontalalignment='center', fontsize=15)\n",
    "\n",
    "\n",
    "        plt.savefig(f\"{figures_save_path}/boxplots/{df_name}-{dv}-all_in_one.png\",\n",
    "                    dpi=300,\n",
    "                    bbox_inches=\"tight\")\n",
    "\n",
    "# for saving with log y-scale activate the following lines:\n",
    "#        plt.yscale('log')\n",
    "\n",
    "#        plt.savefig(f\"{figures_save_path}/boxplots/{df_name}-{dv}-all_in_one-log_scale.png\",\n",
    "#                    dpi=300,\n",
    "#                    bbox_inches=\"tight\")\n",
    "\n",
    "\n",
    "#        plt.show()\n",
    "        plt.close()\n"
   ],
   "metadata": {
    "collapsed": false
   }
  },
  {
   "cell_type": "markdown",
   "source": [
    "# Qualitative Analysis: Generate .csv files"
   ],
   "metadata": {
    "collapsed": false
   }
  },
  {
   "cell_type": "code",
   "execution_count": null,
   "outputs": [],
   "source": [
    "columns_to_investigate = ['sent_id', 'Speaker_name', 'is_coalition', 'is_mp', 'is_female', 'is_upper_house', 'is_chairperson', 'sentence_grouped_nums','num_value', 'is_float-like', 'relative_uncertainty', 'is_about_money', 'has_approximator', 'approximators']\n",
    "\n",
    "# high number values\n",
    "df[columns_to_investigate].sort_values(by='num_value', ascending=False, inplace=False).iloc[:100].to_csv(f\"{qualitative_analysis_save_path}/high_number_values.csv\")\n",
    "\n",
    "# negative number values\n",
    "df[columns_to_investigate][df['num_value'] < 0].to_csv(f\"{qualitative_analysis_save_path}/negative_number_values.csv\")\n",
    "\n",
    "# low relative uncertainty\n",
    "df[columns_to_investigate].sort_values(by='relative_uncertainty', ascending=True, inplace=False).iloc[:100].to_csv(f\"{qualitative_analysis_save_path}/low_relative_uncertainty.csv\")\n",
    "\n",
    "# high relative uncertainty\n",
    "df[columns_to_investigate].sort_values(by='relative_uncertainty', ascending=False, inplace=False).iloc[:100].to_csv(f\"{qualitative_analysis_save_path}/low_relative_uncertainty.csv\")"
   ],
   "metadata": {
    "collapsed": false
   }
  },
  {
   "cell_type": "markdown",
   "source": [
    "## Random Shit"
   ],
   "metadata": {
    "collapsed": false
   }
  },
  {
   "cell_type": "code",
   "execution_count": null,
   "outputs": [],
   "source": [
    "df[df['is_float-like']][columns_to_investigate].sort_values(by='num_value', ascending=False, inplace=False).iloc[:100].to_csv(f\"{qualitative_analysis_save_path}/float-likes--high_number_values.csv\")"
   ],
   "metadata": {
    "collapsed": false
   }
  },
  {
   "cell_type": "code",
   "execution_count": null,
   "outputs": [],
   "source": [
    "df[df['is_about_money']].shape"
   ],
   "metadata": {
    "collapsed": false
   }
  }
 ],
 "metadata": {
  "kernelspec": {
   "name": "conda-env-Linguistics-py",
   "language": "python",
   "display_name": "Python [conda env:Linguistics] *"
  },
  "language_info": {
   "codemirror_mode": {
    "name": "ipython",
    "version": 2
   },
   "file_extension": ".py",
   "mimetype": "text/x-python",
   "name": "python",
   "nbconvert_exporter": "python",
   "pygments_lexer": "ipython2",
   "version": "2.7.6"
  }
 },
 "nbformat": 4,
 "nbformat_minor": 0
}
