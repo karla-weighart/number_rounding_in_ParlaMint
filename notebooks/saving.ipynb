{
 "cells": [
  {
   "cell_type": "code",
   "execution_count": 1,
   "metadata": {
    "collapsed": true
   },
   "outputs": [
    {
     "name": "stdout",
     "output_type": "stream",
     "text": [
      "C:\\Users\\karla\\PycharmProjects\\gender_linguistics_on_ParlaMint\n"
     ]
    }
   ],
   "source": [
    "%cd ..\n",
    "# I need this to access modules from the main folder. Do not move this comment up into the same line\n",
    "\n",
    "import pandas as pd\n",
    "from tqdm.notebook import tqdm\n",
    "import swifter\n",
    "\n",
    "from generate_dataframe import generate_sentences_and_meta_df_from_multiple_files\n",
    "from load_saved_dataframe import load_saved_df\n",
    "\n",
    "from helper_methods import num_list\n",
    "from feature_extraction import *"
   ]
  },
  {
   "cell_type": "code",
   "execution_count": 2,
   "outputs": [],
   "source": [
    "save_name = \"complete_2023_01_14\"\n",
    "saving = True\n",
    "from_saved = False\n",
    "number_of_files = None"
   ],
   "metadata": {
    "collapsed": false
   }
  },
  {
   "cell_type": "code",
   "execution_count": 3,
   "outputs": [
    {
     "data": {
      "text/plain": "  0%|          | 0/2 [00:00<?, ?it/s]",
      "application/vnd.jupyter.widget-view+json": {
       "version_major": 2,
       "version_minor": 0,
       "model_id": "91993f5faaae4d4b83ecc4412d6e13db"
      }
     },
     "metadata": {},
     "output_type": "display_data"
    }
   ],
   "source": [
    "df = generate_sentences_and_meta_df_from_multiple_files(number_of_files=number_of_files)"
   ],
   "metadata": {
    "collapsed": false
   }
  },
  {
   "cell_type": "code",
   "execution_count": 4,
   "outputs": [],
   "source": [
    "if saving:\n",
    "    df.to_csv(f\"C:/Users/karla/Desktop/Zula_Data_all_in_one/{save_name}.csv\")"
   ],
   "metadata": {
    "collapsed": false
   }
  },
  {
   "cell_type": "code",
   "execution_count": 5,
   "outputs": [],
   "source": [
    "if from_saved:\n",
    "    df = load_saved_df(f\"C:/Users/karla/Desktop/Zula_Data_all_in_one/{save_name}.csv\")"
   ],
   "metadata": {
    "collapsed": false
   }
  },
  {
   "cell_type": "code",
   "execution_count": 6,
   "outputs": [
    {
     "data": {
      "text/plain": "Pandas Apply:   0%|          | 0/1015 [00:00<?, ?it/s]",
      "application/vnd.jupyter.widget-view+json": {
       "version_major": 2,
       "version_minor": 0,
       "model_id": "789c1d7ef74146038d198a77b364448c"
      }
     },
     "metadata": {},
     "output_type": "display_data"
    }
   ],
   "source": [
    "df['sentence_grouped_nums'] = df['sentence'].swifter.apply(group_nums)"
   ],
   "metadata": {
    "collapsed": false
   }
  },
  {
   "cell_type": "code",
   "execution_count": 7,
   "outputs": [],
   "source": [
    "if saving:\n",
    "    df.to_csv(f\"C:/Users/karla/Desktop/Zula_Data_all_in_one/{save_name}+group.csv\")"
   ],
   "metadata": {
    "collapsed": false
   }
  },
  {
   "cell_type": "code",
   "execution_count": 8,
   "outputs": [
    {
     "data": {
      "text/plain": "Pandas Apply:   0%|          | 0/1015 [00:00<?, ?it/s]",
      "application/vnd.jupyter.widget-view+json": {
       "version_major": 2,
       "version_minor": 0,
       "model_id": "a1243d978db94c8fac758ebbccd4cc61"
      }
     },
     "metadata": {},
     "output_type": "display_data"
    }
   ],
   "source": [
    "df['sentence_parsed_num_groups'] = df['sentence_grouped_nums'].swifter.apply(parse_num_groups)"
   ],
   "metadata": {
    "collapsed": false
   }
  },
  {
   "cell_type": "code",
   "execution_count": 9,
   "outputs": [],
   "source": [
    "if saving:\n",
    "    df.to_csv(f\"C:/Users/karla/Desktop/Zula_Data_all_in_one/{save_name}+group+parsed.csv\")"
   ],
   "metadata": {
    "collapsed": false
   }
  },
  {
   "cell_type": "code",
   "execution_count": 10,
   "outputs": [
    {
     "data": {
      "text/plain": "Pandas Apply:   0%|          | 0/1015 [00:00<?, ?it/s]",
      "application/vnd.jupyter.widget-view+json": {
       "version_major": 2,
       "version_minor": 0,
       "model_id": "7ea9adc3e3764d74b2a5427e8ae92b4d"
      }
     },
     "metadata": {},
     "output_type": "display_data"
    }
   ],
   "source": [
    "df['NUMs'] = df['sentence_parsed_num_groups'].swifter.apply(num_list)"
   ],
   "metadata": {
    "collapsed": false
   }
  },
  {
   "cell_type": "code",
   "execution_count": 11,
   "outputs": [],
   "source": [
    "if saving:\n",
    "    df.to_csv(f\"C:/Users/karla/Desktop/Zula_Data_all_in_one/{save_name}+group+parsed+separated.csv\")"
   ],
   "metadata": {
    "collapsed": false
   }
  },
  {
   "cell_type": "code",
   "execution_count": 12,
   "outputs": [],
   "source": [
    "df = df.explode('NUMs').reset_index(drop=True)"
   ],
   "metadata": {
    "collapsed": false
   }
  },
  {
   "cell_type": "code",
   "execution_count": 13,
   "outputs": [],
   "source": [
    "if saving:\n",
    "    df.to_csv(f\"C:/Users/karla/Desktop/Zula_Data_all_in_one/{save_name}+group+parsed+separated+exploded.csv\")"
   ],
   "metadata": {
    "collapsed": false
   }
  },
  {
   "cell_type": "code",
   "execution_count": 14,
   "outputs": [
    {
     "data": {
      "text/plain": "Pandas Apply:   0%|          | 0/1642 [00:00<?, ?it/s]",
      "application/vnd.jupyter.widget-view+json": {
       "version_major": 2,
       "version_minor": 0,
       "model_id": "03a83fda6b364874baa6e5091f64e221"
      }
     },
     "metadata": {},
     "output_type": "display_data"
    }
   ],
   "source": [
    "df['roundedness'] = df['NUMs'].swifter.apply(find_roundedness)"
   ],
   "metadata": {
    "collapsed": false
   }
  },
  {
   "cell_type": "code",
   "execution_count": 15,
   "outputs": [],
   "source": [
    "if saving:\n",
    "    df.to_csv(f\"C:/Users/karla/Desktop/Zula_Data_all_in_one/{save_name}+group+parsed+separated+exploded+roundedness.csv\")"
   ],
   "metadata": {
    "collapsed": false
   }
  },
  {
   "cell_type": "code",
   "execution_count": 16,
   "outputs": [
    {
     "data": {
      "text/plain": "Pandas Apply:   0%|          | 0/1642 [00:00<?, ?it/s]",
      "application/vnd.jupyter.widget-view+json": {
       "version_major": 2,
       "version_minor": 0,
       "model_id": "be5fd5dc2b3944f9b7a12a53017e4c25"
      }
     },
     "metadata": {},
     "output_type": "display_data"
    }
   ],
   "source": [
    "df['num_ancestors'] = df.swifter.apply(concordance_ancestors_on_row, axis=1)"
   ],
   "metadata": {
    "collapsed": false
   }
  },
  {
   "cell_type": "code",
   "execution_count": 17,
   "outputs": [],
   "source": [
    "if saving:\n",
    "    df.to_csv(f\"C:/Users/karla/Desktop/Zula_Data_all_in_one/{save_name}+group+parsed+separated+exploded+roundedness+ancestors.csv\")"
   ],
   "metadata": {
    "collapsed": false
   }
  },
  {
   "cell_type": "code",
   "execution_count": 18,
   "outputs": [
    {
     "data": {
      "text/plain": "Pandas Apply:   0%|          | 0/1642 [00:00<?, ?it/s]",
      "application/vnd.jupyter.widget-view+json": {
       "version_major": 2,
       "version_minor": 0,
       "model_id": "ee420de0c4de424f93bd0e604bbadc6e"
      }
     },
     "metadata": {},
     "output_type": "display_data"
    }
   ],
   "source": [
    "df['num_descendants'] = df.swifter.apply(concordance_descendants_on_row, axis=1)"
   ],
   "metadata": {
    "collapsed": false
   }
  },
  {
   "cell_type": "code",
   "execution_count": 19,
   "outputs": [],
   "source": [
    "if saving:\n",
    "    df.to_csv(f\"C:/Users/karla/Desktop/Zula_Data_all_in_one/{save_name}+group+parsed+separated+exploded+roundedness+ancestors+descendants.csv\")"
   ],
   "metadata": {
    "collapsed": false
   }
  },
  {
   "cell_type": "code",
   "execution_count": 20,
   "outputs": [
    {
     "data": {
      "text/plain": "                           sent_id  \\\n0        2015-01-05-commons.seg2.1   \n1        2015-01-05-commons.seg3.2   \n2        2015-01-05-commons.seg4.1   \n3        2015-01-05-commons.seg7.1   \n4       2015-01-05-commons.seg13.1   \n...                            ...   \n1637  2015-01-06-commons.seg589.15   \n1638   2015-01-06-commons.seg590.4   \n1639   2015-01-06-commons.seg590.4   \n1640   2015-01-06-commons.seg590.6   \n1641   2015-01-06-commons.seg593.3   \n\n                                               sentence  \\\n0     {'form': ['The', 'Government', 'are', 'on', 't...   \n1     {'form': ['I', 'know', 'that', 'progress', 'ha...   \n2     {'form': ['As', 'I', 'indicated', 'in', 'my', ...   \n3     {'form': ['But', 'what', 'is', 'the', 'Home', ...   \n4     {'form': ['With', 'permission', ',', 'Mr', 'Sp...   \n...                                                 ...   \n1637  {'form': ['Therefore', ',', '95', '%', 'of', '...   \n1638  {'form': ['For', 'two', 'or', 'three', 'years'...   \n1639  {'form': ['For', 'two', 'or', 'three', 'years'...   \n1640  {'form': ['Working', 'with', 'me', 'and', 'som...   \n1641  {'form': ['Perhaps', 'we', 'could', 'together'...   \n\n                 utterance_id Speaker_party Party_status  \\\n0       2015-01-05-commons.u2           CON    Coalition   \n1       2015-01-05-commons.u3            LD    Coalition   \n2       2015-01-05-commons.u4           CON    Coalition   \n3       2015-01-05-commons.u7           LAB   Opposition   \n4      2015-01-05-commons.u13           CON    Coalition   \n...                       ...           ...          ...   \n1637  2015-01-06-commons.u319           CON    Coalition   \n1638  2015-01-06-commons.u319           CON    Coalition   \n1639  2015-01-06-commons.u319           CON    Coalition   \n1640  2015-01-06-commons.u319           CON    Coalition   \n1641  2015-01-06-commons.u321           CON    Coalition   \n\n                 Speaker_name    mp  female  upper_house  chairperson  \\\n0           May, Theresa Mary  True    True        False        False   \n1     Willott, Jennifer Nancy  True    True        False        False   \n2           May, Theresa Mary  True    True        False        False   \n3         Gwynne, Andrew John  True   False        False        False   \n4            Penning, Michael  True   False        False        False   \n...                       ...   ...     ...          ...          ...   \n1637           Vaizey, Edward  True   False        False        False   \n1638           Vaizey, Edward  True   False        False        False   \n1639           Vaizey, Edward  True   False        False        False   \n1640           Vaizey, Edward  True   False        False        False   \n1641           Vaizey, Edward  True   False        False        False   \n\n                                  sentence_grouped_nums  \\\n0     {'form': ['The', 'Government', 'are', 'on', 't...   \n1     {'form': ['I', 'know', 'that', 'progress', 'ha...   \n2     {'form': ['As', 'I', 'indicated', 'in', 'my', ...   \n3     {'form': ['But', 'what', 'is', 'the', 'Home', ...   \n4     {'form': ['With', 'permission', ',', 'Mr', 'Sp...   \n...                                                 ...   \n1637  {'form': ['Therefore', ',', ['95'], '%', 'of',...   \n1638  {'form': ['For', ['two'], 'or', ['three'], 'ye...   \n1639  {'form': ['For', ['two'], 'or', ['three'], 'ye...   \n1640  {'form': ['Working', 'with', 'me', 'and', 'som...   \n1641  {'form': ['Perhaps', 'we', 'could', 'together'...   \n\n                             sentence_parsed_num_groups        NUMs  \\\n0     {'form': ['The', 'Government', 'are', 'on', 't...  (25, 2015)   \n1     {'form': ['I', 'know', 'that', 'progress', 'ha...   (22, 100)   \n2     {'form': ['As', 'I', 'indicated', 'in', 'my', ...  (23, 2015)   \n3     {'form': ['But', 'what', 'is', 'the', 'Home', ...  (10, 5000)   \n4     {'form': ['With', 'permission', ',', 'Mr', 'Sp...     (10, 2)   \n...                                                 ...         ...   \n1637  {'form': ['Therefore', ',', 95, '%', 'of', 'He...     (11, 4)   \n1638  {'form': ['For', 2, 'or', 3, 'years', ',', 'I'...      (1, 2)   \n1639  {'form': ['For', 2, 'or', 3, 'years', ',', 'I'...      (3, 3)   \n1640  {'form': ['Working', 'with', 'me', 'and', 'som...    (13, 23)   \n1641  {'form': ['Perhaps', 'we', 'could', 'together'...     (16, 7)   \n\n     roundedness                                      num_ancestors  \\\n0         (4, 0)  {'form': ['April'], 'upos': ['PROPN'], 'head':...   \n1         (1, 2)    {'form': ['%'], 'upos': ['NOUN'], 'head': [25]}   \n2         (4, 0)  {'form': ['April'], 'upos': ['PROPN'], 'head':...   \n3         (1, 3)  {'form': ['identify'], 'upos': ['VERB'], 'head...   \n4         (1, 0)  {'form': ['and'], 'upos': ['CCONJ'], 'head': [8]}   \n...          ...                                                ...   \n1637      (1, 0)  {'form': ['operators'], 'upos': ['NOUN'], 'hea...   \n1638      (1, 0)   {'form': ['or'], 'upos': ['CCONJ'], 'head': [4]}   \n1639      (1, 0)   {'form': ['or'], 'upos': ['CCONJ'], 'head': [4]}   \n1640      (2, 0)  {'form': ['projects'], 'upos': ['NOUN'], 'head...   \n1641      (1, 0)  {'form': ['days'], 'upos': ['NOUN'], 'head': [...   \n\n                                        num_descendants  \n0                                        no descendants  \n1                                        no descendants  \n2                                        no descendants  \n3      {'form': ['the'], 'upos': ['DET'], 'head': [10]}  \n4     {'form': ['questions'], 'upos': ['NOUN'], 'hea...  \n...                                                 ...  \n1637                                     no descendants  \n1638                                     no descendants  \n1639                                     no descendants  \n1640  {'form': ['about'], 'upos': ['ADP'], 'head': [...  \n1641                                     no descendants  \n\n[1642 rows x 16 columns]",
      "text/html": "<div>\n<style scoped>\n    .dataframe tbody tr th:only-of-type {\n        vertical-align: middle;\n    }\n\n    .dataframe tbody tr th {\n        vertical-align: top;\n    }\n\n    .dataframe thead th {\n        text-align: right;\n    }\n</style>\n<table border=\"1\" class=\"dataframe\">\n  <thead>\n    <tr style=\"text-align: right;\">\n      <th></th>\n      <th>sent_id</th>\n      <th>sentence</th>\n      <th>utterance_id</th>\n      <th>Speaker_party</th>\n      <th>Party_status</th>\n      <th>Speaker_name</th>\n      <th>mp</th>\n      <th>female</th>\n      <th>upper_house</th>\n      <th>chairperson</th>\n      <th>sentence_grouped_nums</th>\n      <th>sentence_parsed_num_groups</th>\n      <th>NUMs</th>\n      <th>roundedness</th>\n      <th>num_ancestors</th>\n      <th>num_descendants</th>\n    </tr>\n  </thead>\n  <tbody>\n    <tr>\n      <th>0</th>\n      <td>2015-01-05-commons.seg2.1</td>\n      <td>{'form': ['The', 'Government', 'are', 'on', 't...</td>\n      <td>2015-01-05-commons.u2</td>\n      <td>CON</td>\n      <td>Coalition</td>\n      <td>May, Theresa Mary</td>\n      <td>True</td>\n      <td>True</td>\n      <td>False</td>\n      <td>False</td>\n      <td>{'form': ['The', 'Government', 'are', 'on', 't...</td>\n      <td>{'form': ['The', 'Government', 'are', 'on', 't...</td>\n      <td>(25, 2015)</td>\n      <td>(4, 0)</td>\n      <td>{'form': ['April'], 'upos': ['PROPN'], 'head':...</td>\n      <td>no descendants</td>\n    </tr>\n    <tr>\n      <th>1</th>\n      <td>2015-01-05-commons.seg3.2</td>\n      <td>{'form': ['I', 'know', 'that', 'progress', 'ha...</td>\n      <td>2015-01-05-commons.u3</td>\n      <td>LD</td>\n      <td>Coalition</td>\n      <td>Willott, Jennifer Nancy</td>\n      <td>True</td>\n      <td>True</td>\n      <td>False</td>\n      <td>False</td>\n      <td>{'form': ['I', 'know', 'that', 'progress', 'ha...</td>\n      <td>{'form': ['I', 'know', 'that', 'progress', 'ha...</td>\n      <td>(22, 100)</td>\n      <td>(1, 2)</td>\n      <td>{'form': ['%'], 'upos': ['NOUN'], 'head': [25]}</td>\n      <td>no descendants</td>\n    </tr>\n    <tr>\n      <th>2</th>\n      <td>2015-01-05-commons.seg4.1</td>\n      <td>{'form': ['As', 'I', 'indicated', 'in', 'my', ...</td>\n      <td>2015-01-05-commons.u4</td>\n      <td>CON</td>\n      <td>Coalition</td>\n      <td>May, Theresa Mary</td>\n      <td>True</td>\n      <td>True</td>\n      <td>False</td>\n      <td>False</td>\n      <td>{'form': ['As', 'I', 'indicated', 'in', 'my', ...</td>\n      <td>{'form': ['As', 'I', 'indicated', 'in', 'my', ...</td>\n      <td>(23, 2015)</td>\n      <td>(4, 0)</td>\n      <td>{'form': ['April'], 'upos': ['PROPN'], 'head':...</td>\n      <td>no descendants</td>\n    </tr>\n    <tr>\n      <th>3</th>\n      <td>2015-01-05-commons.seg7.1</td>\n      <td>{'form': ['But', 'what', 'is', 'the', 'Home', ...</td>\n      <td>2015-01-05-commons.u7</td>\n      <td>LAB</td>\n      <td>Opposition</td>\n      <td>Gwynne, Andrew John</td>\n      <td>True</td>\n      <td>False</td>\n      <td>False</td>\n      <td>False</td>\n      <td>{'form': ['But', 'what', 'is', 'the', 'Home', ...</td>\n      <td>{'form': ['But', 'what', 'is', 'the', 'Home', ...</td>\n      <td>(10, 5000)</td>\n      <td>(1, 3)</td>\n      <td>{'form': ['identify'], 'upos': ['VERB'], 'head...</td>\n      <td>{'form': ['the'], 'upos': ['DET'], 'head': [10]}</td>\n    </tr>\n    <tr>\n      <th>4</th>\n      <td>2015-01-05-commons.seg13.1</td>\n      <td>{'form': ['With', 'permission', ',', 'Mr', 'Sp...</td>\n      <td>2015-01-05-commons.u13</td>\n      <td>CON</td>\n      <td>Coalition</td>\n      <td>Penning, Michael</td>\n      <td>True</td>\n      <td>False</td>\n      <td>False</td>\n      <td>False</td>\n      <td>{'form': ['With', 'permission', ',', 'Mr', 'Sp...</td>\n      <td>{'form': ['With', 'permission', ',', 'Mr', 'Sp...</td>\n      <td>(10, 2)</td>\n      <td>(1, 0)</td>\n      <td>{'form': ['and'], 'upos': ['CCONJ'], 'head': [8]}</td>\n      <td>{'form': ['questions'], 'upos': ['NOUN'], 'hea...</td>\n    </tr>\n    <tr>\n      <th>...</th>\n      <td>...</td>\n      <td>...</td>\n      <td>...</td>\n      <td>...</td>\n      <td>...</td>\n      <td>...</td>\n      <td>...</td>\n      <td>...</td>\n      <td>...</td>\n      <td>...</td>\n      <td>...</td>\n      <td>...</td>\n      <td>...</td>\n      <td>...</td>\n      <td>...</td>\n      <td>...</td>\n    </tr>\n    <tr>\n      <th>1637</th>\n      <td>2015-01-06-commons.seg589.15</td>\n      <td>{'form': ['Therefore', ',', '95', '%', 'of', '...</td>\n      <td>2015-01-06-commons.u319</td>\n      <td>CON</td>\n      <td>Coalition</td>\n      <td>Vaizey, Edward</td>\n      <td>True</td>\n      <td>False</td>\n      <td>False</td>\n      <td>False</td>\n      <td>{'form': ['Therefore', ',', ['95'], '%', 'of',...</td>\n      <td>{'form': ['Therefore', ',', 95, '%', 'of', 'He...</td>\n      <td>(11, 4)</td>\n      <td>(1, 0)</td>\n      <td>{'form': ['operators'], 'upos': ['NOUN'], 'hea...</td>\n      <td>no descendants</td>\n    </tr>\n    <tr>\n      <th>1638</th>\n      <td>2015-01-06-commons.seg590.4</td>\n      <td>{'form': ['For', 'two', 'or', 'three', 'years'...</td>\n      <td>2015-01-06-commons.u319</td>\n      <td>CON</td>\n      <td>Coalition</td>\n      <td>Vaizey, Edward</td>\n      <td>True</td>\n      <td>False</td>\n      <td>False</td>\n      <td>False</td>\n      <td>{'form': ['For', ['two'], 'or', ['three'], 'ye...</td>\n      <td>{'form': ['For', 2, 'or', 3, 'years', ',', 'I'...</td>\n      <td>(1, 2)</td>\n      <td>(1, 0)</td>\n      <td>{'form': ['or'], 'upos': ['CCONJ'], 'head': [4]}</td>\n      <td>no descendants</td>\n    </tr>\n    <tr>\n      <th>1639</th>\n      <td>2015-01-06-commons.seg590.4</td>\n      <td>{'form': ['For', 'two', 'or', 'three', 'years'...</td>\n      <td>2015-01-06-commons.u319</td>\n      <td>CON</td>\n      <td>Coalition</td>\n      <td>Vaizey, Edward</td>\n      <td>True</td>\n      <td>False</td>\n      <td>False</td>\n      <td>False</td>\n      <td>{'form': ['For', ['two'], 'or', ['three'], 'ye...</td>\n      <td>{'form': ['For', 2, 'or', 3, 'years', ',', 'I'...</td>\n      <td>(3, 3)</td>\n      <td>(1, 0)</td>\n      <td>{'form': ['or'], 'upos': ['CCONJ'], 'head': [4]}</td>\n      <td>no descendants</td>\n    </tr>\n    <tr>\n      <th>1640</th>\n      <td>2015-01-06-commons.seg590.6</td>\n      <td>{'form': ['Working', 'with', 'me', 'and', 'som...</td>\n      <td>2015-01-06-commons.u319</td>\n      <td>CON</td>\n      <td>Coalition</td>\n      <td>Vaizey, Edward</td>\n      <td>True</td>\n      <td>False</td>\n      <td>False</td>\n      <td>False</td>\n      <td>{'form': ['Working', 'with', 'me', 'and', 'som...</td>\n      <td>{'form': ['Working', 'with', 'me', 'and', 'som...</td>\n      <td>(13, 23)</td>\n      <td>(2, 0)</td>\n      <td>{'form': ['projects'], 'upos': ['NOUN'], 'head...</td>\n      <td>{'form': ['about'], 'upos': ['ADP'], 'head': [...</td>\n    </tr>\n    <tr>\n      <th>1641</th>\n      <td>2015-01-06-commons.seg593.3</td>\n      <td>{'form': ['Perhaps', 'we', 'could', 'together'...</td>\n      <td>2015-01-06-commons.u321</td>\n      <td>CON</td>\n      <td>Coalition</td>\n      <td>Vaizey, Edward</td>\n      <td>True</td>\n      <td>False</td>\n      <td>False</td>\n      <td>False</td>\n      <td>{'form': ['Perhaps', 'we', 'could', 'together'...</td>\n      <td>{'form': ['Perhaps', 'we', 'could', 'together'...</td>\n      <td>(16, 7)</td>\n      <td>(1, 0)</td>\n      <td>{'form': ['days'], 'upos': ['NOUN'], 'head': [...</td>\n      <td>no descendants</td>\n    </tr>\n  </tbody>\n</table>\n<p>1642 rows × 16 columns</p>\n</div>"
     },
     "execution_count": 20,
     "metadata": {},
     "output_type": "execute_result"
    }
   ],
   "source": [
    "df"
   ],
   "metadata": {
    "collapsed": false
   }
  }
 ],
 "metadata": {
  "kernelspec": {
   "name": "conda-env-Linguistics-py",
   "language": "python",
   "display_name": "Python [conda env:Linguistics] *"
  },
  "language_info": {
   "codemirror_mode": {
    "name": "ipython",
    "version": 2
   },
   "file_extension": ".py",
   "mimetype": "text/x-python",
   "name": "python",
   "nbconvert_exporter": "python",
   "pygments_lexer": "ipython2",
   "version": "2.7.6"
  }
 },
 "nbformat": 4,
 "nbformat_minor": 0
}
