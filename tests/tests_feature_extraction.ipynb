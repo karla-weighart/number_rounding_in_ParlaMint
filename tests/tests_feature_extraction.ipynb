{
 "cells": [
  {
   "cell_type": "code",
   "execution_count": null,
   "metadata": {
    "collapsed": true
   },
   "outputs": [],
   "source": [
    "%cd ..\n",
    "# I need this to access modules from the main folder. Do not move this comment up into the same line"
   ]
  },
  {
   "cell_type": "code",
   "execution_count": null,
   "outputs": [],
   "source": [
    "from numerals import group_nums\n",
    "\n",
    "def test_group_nums():\n",
    "    test_in_n_out_burgers = (\n",
    "        ({'form': ['roughly', '7', 'hundred', 'million', 'beautiful', 'people'], 'upos': ['ADV', 'NUM', 'NUM', 'NUM', 'ADJ', 'NOUN'], 'head': [1, 2, 3, 5, 5, -1]}, )\n",
    "    )\n",
    "\n",
    "\n",
    "# TODO"
   ],
   "metadata": {
    "collapsed": false
   }
  },
  {
   "cell_type": "code",
   "execution_count": 5,
   "outputs": [
    {
     "name": "stdout",
     "output_type": "stream",
     "text": [
      "done\n"
     ]
    }
   ],
   "source": [
    "from numerals import parse_num_group\n",
    "\n",
    "def test_parse_num_group():\n",
    "    test_in_n_out_burgers = (\n",
    "        (['300', 'million'], ('300000000', 300000000)),\n",
    "        (['500'], ('500', 500)),\n",
    "        (['2'], ('2', 2)),\n",
    "        (['8.20'], ('8.20', 8.2)),\n",
    "        (['five hundred thousand'], ('500000', 500000)),\n",
    "        (['five hundred', 'thousand'], ('500000', 500000)),\n",
    "        (['five', 'hundred', 'thousand'], ('500000', 500000)),\n",
    "        (['3.4', 'million'], ('3400000', 3400000))\n",
    "    )\n",
    "\n",
    "    for input_, output in test_in_n_out_burgers:\n",
    "        assert parse_num_group(input_) == output, f\"{input_} yielded {parse_num_group(input_)} while it should be {output}\"\n",
    "    print('done')\n",
    "\n",
    "test_parse_num_group()"
   ],
   "metadata": {
    "collapsed": false
   }
  },
  {
   "cell_type": "code",
   "execution_count": 2,
   "outputs": [
    {
     "name": "stdout",
     "output_type": "stream",
     "text": [
      "done\n"
     ]
    }
   ],
   "source": [
    "from numerals import find_roundedness\n",
    "\n",
    "def test_find_roundedness():\n",
    "    test_in_n_out_burgers = (\n",
    "        # input, (is_float_like, proper_digits, n_zeroes, n_decimals)\n",
    "        ('00123.0', (True, 4, 2, 1)),\n",
    "        ('304000.0', (True, 7, 0, 1)),\n",
    "        ('0.54', (True, 2, 1, 2)),\n",
    "        ('2', (False, 1, 0, \"n/a\")),\n",
    "        ('8.20', (True, 3, 0, 2)),\n",
    "        ('0.0045', (True, 2, 3, 4)),\n",
    "        ('12300', (False, 3, 2, \"n/a\"))\n",
    "    )\n",
    "\n",
    "    for input_, output in test_in_n_out_burgers:\n",
    "        assert find_roundedness(input_) == output, f\"{input_} yielded {find_roundedness(input_)} while it should be {output}\"\n",
    "    print('done')\n",
    "\n",
    "test_find_roundedness()"
   ],
   "metadata": {
    "collapsed": false
   }
  },
  {
   "cell_type": "code",
   "execution_count": 4,
   "outputs": [
    {
     "name": "stdout",
     "output_type": "stream",
     "text": [
      "done\n"
     ]
    }
   ],
   "source": [
    "from numerals import find_uncertainty\n",
    "import pandas as pd\n",
    "\n",
    "def test_find_uncertainty():\n",
    "    test_in_n_out_burgers = (\n",
    "        # input: pd.Series[is_float-like, n_decimals, n_zeroes, num_value], output: tuple[absolute_uncertainty, relative_uncertainty]\n",
    "        (pd.Series({'is_float-like': True, 'n_decimals': 2, 'n_zeroes': 0, 'num_value': 3.14}), (0.01, 0.01/3.14)),\n",
    "        (pd.Series({'is_float-like': False, 'n_decimals': 'n/a', 'n_zeroes': 2, 'num_value': 3400}), (100, 100/3400)),\n",
    "        (pd.Series({'is_float-like': True, 'n_decimals': 3, 'n_zeroes': 3, 'num_value': 0.003}), (0.001, 0.001/0.003))\n",
    "    )\n",
    "\n",
    "    for input_, output in test_in_n_out_burgers:\n",
    "        assert find_uncertainty(input_) == output, f\"{input_} yielded {find_uncertainty(input_)} while it should be {output}\"\n",
    "    print('done')\n",
    "\n",
    "test_find_uncertainty()"
   ],
   "metadata": {
    "collapsed": false
   }
  },
  {
   "cell_type": "code",
   "execution_count": null,
   "outputs": [],
   "source": [],
   "metadata": {
    "collapsed": false
   }
  }
 ],
 "metadata": {
  "kernelspec": {
   "display_name": "Python 3",
   "language": "python",
   "name": "python3"
  },
  "language_info": {
   "codemirror_mode": {
    "name": "ipython",
    "version": 2
   },
   "file_extension": ".py",
   "mimetype": "text/x-python",
   "name": "python",
   "nbconvert_exporter": "python",
   "pygments_lexer": "ipython2",
   "version": "2.7.6"
  }
 },
 "nbformat": 4,
 "nbformat_minor": 0
}
