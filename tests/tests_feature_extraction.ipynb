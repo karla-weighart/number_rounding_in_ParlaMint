{
 "cells": [
  {
   "cell_type": "code",
   "execution_count": 2,
   "metadata": {
    "collapsed": true
   },
   "outputs": [
    {
     "name": "stdout",
     "output_type": "stream",
     "text": [
      "C:\\Users\\karla\\PycharmProjects\\gender_linguistics_on_ParlaMint\n"
     ]
    }
   ],
   "source": [
    "%cd ..\n",
    "# I need this to access modules from the main folder. Do not move this comment up into the same line"
   ]
  },
  {
   "cell_type": "code",
   "execution_count": null,
   "outputs": [],
   "source": [
    "from feature_extraction import group_nums\n",
    "\n",
    "def test_group_nums():\n",
    "    test_in_n_out_burgers = (\n",
    "        ({'form': ['roughly', '7', 'hundred', 'million', 'beautiful', 'people'], 'upos': ['ADV', 'NUM', 'NUM', 'NUM', 'ADJ', 'NOUN'], 'head': [1, 2, 3, 5, 5, -1]}, )\n",
    "    )\n",
    "\n",
    "\n",
    "# TODO"
   ],
   "metadata": {
    "collapsed": false
   }
  },
  {
   "cell_type": "code",
   "execution_count": 9,
   "outputs": [
    {
     "name": "stdout",
     "output_type": "stream",
     "text": [
      "done\n"
     ]
    }
   ],
   "source": [
    "from feature_extraction import parse_num_group\n",
    "\n",
    "def test_parse_num_group():\n",
    "    test_in_n_out_burgers = (\n",
    "        (['300', 'million'], 300000000),\n",
    "        (['500'], 500),\n",
    "        (['2'], 2),\n",
    "        (['8.20'], 8.20),\n",
    "        (['five hundred thousand'], 500000),\n",
    "        (['five hundred', 'thousand'], 500000),\n",
    "        (['3.4', 'million'], 3400000)\n",
    "    )\n",
    "\n",
    "    for input, output in test_in_n_out_burgers:\n",
    "        assert parse_num_group(input) == output, f\"{input} yielded {parse_num_group(input)} while it should be {output}\"\n",
    "    print('done')\n",
    "\n",
    "test_parse_num_group()"
   ],
   "metadata": {
    "collapsed": false
   }
  },
  {
   "cell_type": "code",
   "execution_count": 10,
   "outputs": [
    {
     "name": "stdout",
     "output_type": "stream",
     "text": [
      "done\n"
     ]
    }
   ],
   "source": [
    "from feature_extraction import find_roundedness\n",
    "\n",
    "def test_find_roundedness():\n",
    "    test_in_n_out_burgers = (\n",
    "        (00123.0, (3,1)),\n",
    "        (304000.0, (3,4)),\n",
    "        (0.54, (2,0)),\n",
    "        (2, (1,0)),\n",
    "        (8.20, (2,0))\n",
    "    )\n",
    "\n",
    "    for input, output in test_in_n_out_burgers:\n",
    "        assert find_roundedness(input) == output, f\"{input} yielded {parse_num_group(input)} while it should be {output}\"\n",
    "\n",
    "print('done')"
   ],
   "metadata": {
    "collapsed": false
   }
  },
  {
   "cell_type": "code",
   "execution_count": null,
   "outputs": [],
   "source": [],
   "metadata": {
    "collapsed": false
   }
  }
 ],
 "metadata": {
  "kernelspec": {
   "display_name": "Python 3",
   "language": "python",
   "name": "python3"
  },
  "language_info": {
   "codemirror_mode": {
    "name": "ipython",
    "version": 2
   },
   "file_extension": ".py",
   "mimetype": "text/x-python",
   "name": "python",
   "nbconvert_exporter": "python",
   "pygments_lexer": "ipython2",
   "version": "2.7.6"
  }
 },
 "nbformat": 4,
 "nbformat_minor": 0
}
